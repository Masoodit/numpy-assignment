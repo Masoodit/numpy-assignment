{
 "cells": [
  {
   "cell_type": "markdown",
   "id": "1f2f50ac-8144-4c4a-940e-ad9c0c86b90f",
   "metadata": {},
   "source": [
    "# 1. Create a NumPy array 'arr' of integers from 0 to 5 and print its data type. "
   ]
  },
  {
   "cell_type": "code",
   "execution_count": 1,
   "id": "7a4c798e-07eb-47ce-81ca-6d7bd98b6248",
   "metadata": {},
   "outputs": [
    {
     "name": "stdout",
     "output_type": "stream",
     "text": [
      "[0 1 2 3 4 5]\n",
      "Data type of the array: int64\n"
     ]
    }
   ],
   "source": [
    "import numpy as np\n",
    "\n",
    "# Create the array\n",
    "arr = np.arange(6)\n",
    "\n",
    "# Print the array and its data type\n",
    "print(arr)\n",
    "print(\"Data type of the array:\", arr.dtype)\n"
   ]
  },
  {
   "cell_type": "markdown",
   "id": "49910f09-e5d0-4177-beb5-13bb35c8c0e4",
   "metadata": {},
   "source": [
    "# 2. Given a NumPy array 'arr', check if its data type is float64. \n",
    "## arr = np.array([1.5, 2.6, 3.7])"
   ]
  },
  {
   "cell_type": "code",
   "execution_count": 2,
   "id": "d16ec576-55d8-427a-9a53-ecab0815fbff",
   "metadata": {},
   "outputs": [
    {
     "name": "stdout",
     "output_type": "stream",
     "text": [
      "Is the array's data type float64? True\n"
     ]
    }
   ],
   "source": [
    "import numpy as np\n",
    "\n",
    "# Given array\n",
    "arr = np.array([1.5, 2.6, 3.7])\n",
    "\n",
    "# Check if the data type is float64\n",
    "is_float64 = arr.dtype == np.float64\n",
    "\n",
    "print(\"Is the array's data type float64?\", is_float64)\n"
   ]
  },
  {
   "cell_type": "markdown",
   "id": "e432a5e2-010b-4fbd-b617-86fc11a6a300",
   "metadata": {},
   "source": [
    "# 3. Create a NumPy array 'arr' with a data type of complex128 containing three complex numbers."
   ]
  },
  {
   "cell_type": "code",
   "execution_count": 3,
   "id": "0be42d2c-c594-407a-95d0-72eecb637928",
   "metadata": {},
   "outputs": [
    {
     "name": "stdout",
     "output_type": "stream",
     "text": [
      "[1.+2.j 3.+4.j 5.+6.j]\n",
      "Data type of the array: complex128\n"
     ]
    }
   ],
   "source": [
    "import numpy as np\n",
    "\n",
    "# Create the array with complex numbers\n",
    "arr = np.array([1+2j, 3+4j, 5+6j], dtype=np.complex128)\n",
    "\n",
    "# Print the array and its data type\n",
    "print(arr)\n",
    "print(\"Data type of the array:\", arr.dtype)\n"
   ]
  },
  {
   "cell_type": "markdown",
   "id": "d812096d-b35d-4101-a801-4f1874493694",
   "metadata": {},
   "source": [
    "# 4. Convert an existing NumPy array 'arr' of integers to float32 data type"
   ]
  },
  {
   "cell_type": "code",
   "execution_count": 4,
   "id": "3ea34043-6426-48fe-8ada-b64b562da06a",
   "metadata": {},
   "outputs": [
    {
     "name": "stdout",
     "output_type": "stream",
     "text": [
      "Original array: [1 2 3 4 5]\n",
      "Original data type: int64\n",
      "Converted array: [1. 2. 3. 4. 5.]\n",
      "Converted data type: float32\n"
     ]
    }
   ],
   "source": [
    "import numpy as np\n",
    "\n",
    "# Example array of integers\n",
    "arr = np.array([1, 2, 3, 4, 5])\n",
    "\n",
    "# Convert to float32\n",
    "arr_float32 = arr.astype(np.float32)\n",
    "\n",
    "# Print the original and converted arrays along with their data types\n",
    "print(\"Original array:\", arr)\n",
    "print(\"Original data type:\", arr.dtype)\n",
    "print(\"Converted array:\", arr_float32)\n",
    "print(\"Converted data type:\", arr_float32.dtype)\n"
   ]
  },
  {
   "cell_type": "markdown",
   "id": "46d11944-67be-434b-b0e7-3f43b433c5e2",
   "metadata": {},
   "source": [
    "# 5. Given a NumPy array 'arr' with float64 data type, convert it to float32 to reduce decimal precision."
   ]
  },
  {
   "cell_type": "code",
   "execution_count": 5,
   "id": "eb6bf028-1684-48d5-8c35-cae5c16f970d",
   "metadata": {},
   "outputs": [
    {
     "name": "stdout",
     "output_type": "stream",
     "text": [
      "Original array: [1.12345679 2.12345679 3.12345679]\n",
      "Original data type: float64\n",
      "Converted array: [1.1234568 2.1234567 3.1234567]\n",
      "Converted data type: float32\n"
     ]
    }
   ],
   "source": [
    "import numpy as np\n",
    "\n",
    "# Example array with float64 data type\n",
    "arr = np.array([1.123456789, 2.123456789, 3.123456789], dtype=np.float64)\n",
    "\n",
    "# Convert to float32\n",
    "arr_float32 = arr.astype(np.float32)\n",
    "\n",
    "# Print the original and converted arrays along with their data types\n",
    "print(\"Original array:\", arr)\n",
    "print(\"Original data type:\", arr.dtype)\n",
    "print(\"Converted array:\", arr_float32)\n",
    "print(\"Converted data type:\", arr_float32.dtype)\n"
   ]
  },
  {
   "cell_type": "markdown",
   "id": "f4b077b1-f288-436a-b90e-c45213060f22",
   "metadata": {},
   "source": [
    "# 6. Write a function array_attributes that takes a NumPy array as input and returns its shape, size, and data type."
   ]
  },
  {
   "cell_type": "code",
   "execution_count": 6,
   "id": "fde7129e-08e1-4cc9-a8d7-ad8a279af32b",
   "metadata": {},
   "outputs": [
    {
     "name": "stdout",
     "output_type": "stream",
     "text": [
      "Shape: (2, 3)\n",
      "Size: 6\n",
      "Data type: int64\n"
     ]
    }
   ],
   "source": [
    "import numpy as np\n",
    "\n",
    "def array_attributes(arr):\n",
    "    shape = arr.shape\n",
    "    size = arr.size\n",
    "    dtype = arr.dtype\n",
    "    return shape, size, dtype\n",
    "\n",
    "# Example usage\n",
    "arr = np.array([[1, 2, 3], [4, 5, 6]])\n",
    "shape, size, dtype = array_attributes(arr)\n",
    "\n",
    "print(\"Shape:\", shape)\n",
    "print(\"Size:\", size)\n",
    "print(\"Data type:\", dtype)\n"
   ]
  },
  {
   "cell_type": "markdown",
   "id": "3fb8f9ae-f2de-4fe9-a8dc-8dcfbd761525",
   "metadata": {},
   "source": [
    "# 7. Create a function array_dimension that takes a NumPy array as input and returns its dimensionality."
   ]
  },
  {
   "cell_type": "code",
   "execution_count": 7,
   "id": "827568ea-f871-484f-8b51-aedab18307da",
   "metadata": {},
   "outputs": [
    {
     "name": "stdout",
     "output_type": "stream",
     "text": [
      "Dimensionality: 2\n"
     ]
    }
   ],
   "source": [
    "import numpy as np\n",
    "\n",
    "def array_dimension(arr):\n",
    "    return arr.ndim\n",
    "\n",
    "# Example usage\n",
    "arr = np.array([[1, 2, 3], [4, 5, 6]])\n",
    "dimension = array_dimension(arr)\n",
    "\n",
    "print(\"Dimensionality:\", dimension)\n"
   ]
  },
  {
   "cell_type": "markdown",
   "id": "fb89102a-497e-41da-9e3b-7fed903823f3",
   "metadata": {},
   "source": [
    "# 8. Design a function item_size_info that takes a NumPy array as input and returns the item size and the total size in bytes."
   ]
  },
  {
   "cell_type": "code",
   "execution_count": 8,
   "id": "2efccaee-2907-4f04-a113-f39197f41274",
   "metadata": {},
   "outputs": [
    {
     "name": "stdout",
     "output_type": "stream",
     "text": [
      "Item size (in bytes): 8\n",
      "Total size (in bytes): 48\n"
     ]
    }
   ],
   "source": [
    "import numpy as np\n",
    "\n",
    "def item_size_info(arr):\n",
    "    item_size = arr.itemsize\n",
    "    total_size = arr.nbytes\n",
    "    return item_size, total_size\n",
    "\n",
    "# Example usage\n",
    "arr = np.array([[1, 2, 3], [4, 5, 6]])\n",
    "item_size, total_size = item_size_info(arr)\n",
    "\n",
    "print(\"Item size (in bytes):\", item_size)\n",
    "print(\"Total size (in bytes):\", total_size)\n"
   ]
  },
  {
   "cell_type": "markdown",
   "id": "008873aa-cdec-41cc-8c29-42a32fdc6d4a",
   "metadata": {},
   "source": [
    "# 9. Create a function array_strides that takes a NumPy array as input and returns the strides of the array"
   ]
  },
  {
   "cell_type": "code",
   "execution_count": 9,
   "id": "02ceffe5-d42b-46dc-baf3-7c0d1a35af93",
   "metadata": {},
   "outputs": [
    {
     "name": "stdout",
     "output_type": "stream",
     "text": [
      "Strides: (24, 8)\n"
     ]
    }
   ],
   "source": [
    "import numpy as np\n",
    "\n",
    "def array_strides(arr):\n",
    "    return arr.strides\n",
    "\n",
    "# Example usage\n",
    "arr = np.array([[1, 2, 3], [4, 5, 6]])\n",
    "strides = array_strides(arr)\n",
    "\n",
    "print(\"Strides:\", strides)\n"
   ]
  },
  {
   "cell_type": "markdown",
   "id": "953db1ae-a93b-4be7-9cff-b4c25e5f6d38",
   "metadata": {},
   "source": [
    "# 10. Design a function shape_stride_relationship that takes a NumPy array as input and returns the shape and strides of the array."
   ]
  },
  {
   "cell_type": "code",
   "execution_count": 10,
   "id": "03400c15-e136-40d9-b65d-45e6e9aef297",
   "metadata": {},
   "outputs": [
    {
     "name": "stdout",
     "output_type": "stream",
     "text": [
      "Shape: (2, 3)\n",
      "Strides: (24, 8)\n"
     ]
    }
   ],
   "source": [
    "import numpy as np\n",
    "\n",
    "def shape_stride_relationship(arr):\n",
    "    shape = arr.shape\n",
    "    strides = arr.strides\n",
    "    return shape, strides\n",
    "\n",
    "# Example usage\n",
    "arr = np.array([[1, 2, 3], [4, 5, 6]])\n",
    "shape, strides = shape_stride_relationship(arr)\n",
    "\n",
    "print(\"Shape:\", shape)\n",
    "print(\"Strides:\", strides)\n"
   ]
  },
  {
   "cell_type": "markdown",
   "id": "dccafb96-c749-4b6d-907c-3aa900ad4b43",
   "metadata": {},
   "source": [
    "# 11. Create a function `create_zeros_array` that takes an integer `n` as input and returns a NumPy array of zeros with `n` elements"
   ]
  },
  {
   "cell_type": "code",
   "execution_count": 1,
   "id": "2e209696-72cd-4af5-9667-3474b154fecb",
   "metadata": {},
   "outputs": [
    {
     "name": "stdout",
     "output_type": "stream",
     "text": [
      "Array of zeros: [0. 0. 0. 0. 0.]\n"
     ]
    }
   ],
   "source": [
    "import numpy as np\n",
    "\n",
    "def create_zeros_array(n):\n",
    "    return np.zeros(n)\n",
    "\n",
    "# Example usage\n",
    "n = 5\n",
    "zeros_array = create_zeros_array(n)\n",
    "\n",
    "print(\"Array of zeros:\", zeros_array)\n"
   ]
  },
  {
   "cell_type": "markdown",
   "id": "26df1f52-af59-4069-ac6d-138d5776d077",
   "metadata": {},
   "source": [
    "# 12. Write a function create_ones_matrix that takes integers rows and cols as inputs and generates a 2D NumPy array filled with ones of size rows x cols."
   ]
  },
  {
   "cell_type": "code",
   "execution_count": 2,
   "id": "ce9cc355-e7c1-4696-89f0-cbf51cc40671",
   "metadata": {},
   "outputs": [
    {
     "name": "stdout",
     "output_type": "stream",
     "text": [
      "Matrix of ones:\n",
      " [[1. 1. 1. 1.]\n",
      " [1. 1. 1. 1.]\n",
      " [1. 1. 1. 1.]]\n"
     ]
    }
   ],
   "source": [
    "import numpy as np\n",
    "\n",
    "def create_ones_matrix(rows, cols):\n",
    "    return np.ones((rows, cols))\n",
    "\n",
    "# Example usage\n",
    "rows = 3\n",
    "cols = 4\n",
    "ones_matrix = create_ones_matrix(rows, cols)\n",
    "\n",
    "print(\"Matrix of ones:\\n\", ones_matrix)\n"
   ]
  },
  {
   "cell_type": "markdown",
   "id": "0d4fb30b-2297-4b53-ad7c-16442f941063",
   "metadata": {},
   "source": [
    "# 13. Write a function generate_range_array that takes three integers start, stop, and step as arguments and creates a NumPy array with a range starting from start, ending at stop (exclusive), and with the specified step."
   ]
  },
  {
   "cell_type": "code",
   "execution_count": 3,
   "id": "9f671db9-c12c-4068-826c-0425c48ae18f",
   "metadata": {},
   "outputs": [
    {
     "name": "stdout",
     "output_type": "stream",
     "text": [
      "Range array: [0 2 4 6 8]\n"
     ]
    }
   ],
   "source": [
    "import numpy as np\n",
    "\n",
    "def generate_range_array(start, stop, step):\n",
    "    return np.arange(start, stop, step)\n",
    "\n",
    "# Example usage\n",
    "start = 0\n",
    "stop = 10\n",
    "step = 2\n",
    "range_array = generate_range_array(start, stop, step)\n",
    "\n",
    "print(\"Range array:\", range_array)\n"
   ]
  },
  {
   "cell_type": "markdown",
   "id": "dbc6f622-81e7-4880-8920-db6a640eb815",
   "metadata": {},
   "source": [
    "# 14. Design a function generate_linear_space that takes two floats start, stop, and an integer num as arguments and generates a NumPy array with num equally spaced values between start and stop (inclusive)."
   ]
  },
  {
   "cell_type": "code",
   "execution_count": 4,
   "id": "7a2fca08-fdf8-4ad5-9b22-9e50a84a05c6",
   "metadata": {},
   "outputs": [
    {
     "name": "stdout",
     "output_type": "stream",
     "text": [
      "Linear space array: [0.   0.25 0.5  0.75 1.  ]\n"
     ]
    }
   ],
   "source": [
    "import numpy as np\n",
    "\n",
    "def generate_linear_space(start, stop, num):\n",
    "    return np.linspace(start, stop, num)\n",
    "\n",
    "# Example usage\n",
    "start = 0.0\n",
    "stop = 1.0\n",
    "num = 5\n",
    "linear_space_array = generate_linear_space(start, stop, num)\n",
    "\n",
    "print(\"Linear space array:\", linear_space_array)\n"
   ]
  },
  {
   "cell_type": "markdown",
   "id": "a201f0a6-a2e6-4ddf-a1dd-1fcc89c4142e",
   "metadata": {},
   "source": [
    "# 15. Create a function create_identity_matrix that takes an integer n as input and generates a square identity matrix of size n x n using numpy.eye."
   ]
  },
  {
   "cell_type": "code",
   "execution_count": 5,
   "id": "65b379c1-dd1a-4cc2-9146-23c5d35eb288",
   "metadata": {},
   "outputs": [
    {
     "name": "stdout",
     "output_type": "stream",
     "text": [
      "Identity matrix:\n",
      " [[1. 0. 0. 0.]\n",
      " [0. 1. 0. 0.]\n",
      " [0. 0. 1. 0.]\n",
      " [0. 0. 0. 1.]]\n"
     ]
    }
   ],
   "source": [
    "import numpy as np\n",
    "\n",
    "def create_identity_matrix(n):\n",
    "    return np.eye(n)\n",
    "\n",
    "# Example usage\n",
    "n = 4\n",
    "identity_matrix = create_identity_matrix(n)\n",
    "\n",
    "print(\"Identity matrix:\\n\", identity_matrix)\n"
   ]
  },
  {
   "cell_type": "markdown",
   "id": "c01a12c9-acf7-423a-a573-963baa08a7bc",
   "metadata": {},
   "source": [
    "# 16. Write a function that takes a Python list and converts it into a NumPy array."
   ]
  },
  {
   "cell_type": "code",
   "execution_count": 7,
   "id": "a434d4fe-8c00-462f-8aef-270a8feee089",
   "metadata": {},
   "outputs": [
    {
     "name": "stdout",
     "output_type": "stream",
     "text": [
      "Python list: [1, 2, 3, 4, 5]\n",
      "NumPy array: [1 2 3 4 5]\n"
     ]
    }
   ],
   "source": [
    "import numpy as np\n",
    "\n",
    "def list_to_numpy_array(py_list):\n",
    "    return np.array(py_list)\n",
    "\n",
    "# Example usage\n",
    "py_list = [1, 2, 3, 4, 5]\n",
    "numpy_array = list_to_numpy_array(py_list)\n",
    "\n",
    "print(\"Python list:\", py_list)\n",
    "print(\"NumPy array:\", numpy_array)\n"
   ]
  },
  {
   "cell_type": "markdown",
   "id": "85c3ef8d-2d32-4493-b209-b8e3d9e90c82",
   "metadata": {},
   "source": [
    "# 17. Create a NumPy array and demonstrate the use of numpy.view to create a new array object with the same data."
   ]
  },
  {
   "cell_type": "code",
   "execution_count": 8,
   "id": "ee60488c-e144-4c94-b721-363c88056b1c",
   "metadata": {},
   "outputs": [
    {
     "name": "stdout",
     "output_type": "stream",
     "text": [
      "Original array: [1 2 3 4 5]\n",
      "View array: [1 2 3 4 5]\n",
      "Original array base: None\n",
      "View array base: [1 2 3 4 5]\n",
      "\n",
      "After modifying the original array:\n",
      "Original array: [99  2  3  4  5]\n",
      "View array: [99  2  3  4  5]\n"
     ]
    }
   ],
   "source": [
    "import numpy as np\n",
    "\n",
    "# Create an original NumPy array\n",
    "original_array = np.array([1, 2, 3, 4, 5])\n",
    "\n",
    "# Create a new array object using the view method\n",
    "view_array = original_array.view()\n",
    "\n",
    "# Print both arrays and their memory addresses to show they share the same data\n",
    "print(\"Original array:\", original_array)\n",
    "print(\"View array:\", view_array)\n",
    "\n",
    "# Check if both arrays share the same data\n",
    "print(\"Original array base:\", original_array.base)\n",
    "print(\"View array base:\", view_array.base)\n",
    "\n",
    "# Modify the original array to see if changes are reflected in the view\n",
    "original_array[0] = 99\n",
    "print(\"\\nAfter modifying the original array:\")\n",
    "print(\"Original array:\", original_array)\n",
    "print(\"View array:\", view_array)\n"
   ]
  },
  {
   "cell_type": "markdown",
   "id": "66ecb56e-4605-44fc-891e-83cff57bd620",
   "metadata": {},
   "source": [
    "# 18. Write a function that takes two NumPy arrays and concatenates them along a specified axis."
   ]
  },
  {
   "cell_type": "code",
   "execution_count": 9,
   "id": "205343c1-648a-45ac-94bb-3f281321ddff",
   "metadata": {},
   "outputs": [
    {
     "name": "stdout",
     "output_type": "stream",
     "text": [
      "Concatenated along axis 0:\n",
      " [[1 2]\n",
      " [3 4]\n",
      " [5 6]\n",
      " [7 8]]\n",
      "Concatenated along axis 1:\n",
      " [[1 2 5 6]\n",
      " [3 4 7 8]]\n"
     ]
    }
   ],
   "source": [
    "import numpy as np\n",
    "\n",
    "def concatenate_arrays(arr1, arr2, axis=0):\n",
    "    return np.concatenate((arr1, arr2), axis=axis)\n",
    "\n",
    "# Example usage\n",
    "arr1 = np.array([[1, 2], [3, 4]])\n",
    "arr2 = np.array([[5, 6], [7, 8]])\n",
    "\n",
    "# Concatenate along the first axis (rows)\n",
    "concatenated_array_axis0 = concatenate_arrays(arr1, arr2, axis=0)\n",
    "print(\"Concatenated along axis 0:\\n\", concatenated_array_axis0)\n",
    "\n",
    "# Concatenate along the second axis (columns)\n",
    "concatenated_array_axis1 = concatenate_arrays(arr1, arr2, axis=1)\n",
    "print(\"Concatenated along axis 1:\\n\", concatenated_array_axis1)\n"
   ]
  },
  {
   "cell_type": "markdown",
   "id": "7b3ae17c-35f6-43ef-95b2-da69ba57114b",
   "metadata": {},
   "source": [
    "# 19.  Create two NumPy arrays with different shapes and concatenate them horizontally using numpy.concatenate."
   ]
  },
  {
   "cell_type": "code",
   "execution_count": 10,
   "id": "e1a06c59-1c2b-454d-9e93-833b2f230db9",
   "metadata": {},
   "outputs": [
    {
     "name": "stdout",
     "output_type": "stream",
     "text": [
      "Array 1:\n",
      " [[1 2]\n",
      " [3 4]]\n",
      "Array 2:\n",
      " [[ 5  6  7]\n",
      " [ 8  9 10]]\n",
      "Concatenated horizontally:\n",
      " [[ 1  2  5  6  7]\n",
      " [ 3  4  8  9 10]]\n"
     ]
    }
   ],
   "source": [
    "import numpy as np\n",
    "\n",
    "# Create two arrays with different shapes but the same number of rows\n",
    "arr1 = np.array([[1, 2], [3, 4]])\n",
    "arr2 = np.array([[5, 6, 7], [8, 9, 10]])\n",
    "\n",
    "# Concatenate the arrays horizontally\n",
    "concatenated_array = np.concatenate((arr1, arr2), axis=1)\n",
    "\n",
    "print(\"Array 1:\\n\", arr1)\n",
    "print(\"Array 2:\\n\", arr2)\n",
    "print(\"Concatenated horizontally:\\n\", concatenated_array)\n"
   ]
  },
  {
   "cell_type": "markdown",
   "id": "1f1313f3-738e-437a-973d-0cf90ced42c2",
   "metadata": {},
   "source": [
    " # 20. Write a function that vertically stacks multiple NumPy arrays given as a list."
   ]
  },
  {
   "cell_type": "code",
   "execution_count": 11,
   "id": "b5d56ebf-f927-4b3a-aa78-438646bca671",
   "metadata": {},
   "outputs": [
    {
     "name": "stdout",
     "output_type": "stream",
     "text": [
      "Stacked array:\n",
      " [[ 1  2]\n",
      " [ 3  4]\n",
      " [ 5  6]\n",
      " [ 7  8]\n",
      " [ 9 10]\n",
      " [11 12]]\n"
     ]
    }
   ],
   "source": [
    "import numpy as np\n",
    "\n",
    "def vertically_stack_arrays(arr_list):\n",
    "    return np.vstack(arr_list)\n",
    "\n",
    "# Example usage\n",
    "arr1 = np.array([[1, 2], [3, 4]])\n",
    "arr2 = np.array([[5, 6], [7, 8]])\n",
    "arr3 = np.array([[9, 10], [11, 12]])\n",
    "\n",
    "# List of arrays to stack\n",
    "arrays_to_stack = [arr1, arr2, arr3]\n",
    "\n",
    "# Vertically stack the arrays\n",
    "stacked_array = vertically_stack_arrays(arrays_to_stack)\n",
    "\n",
    "print(\"Stacked array:\\n\", stacked_array)\n"
   ]
  },
  {
   "cell_type": "markdown",
   "id": "a8874c35-3e26-4def-b4bf-fa58224db7f9",
   "metadata": {},
   "source": [
    "# 21. Write a Python function using NumPy to create an array of integers within a specified range (inclusive) with a given step size."
   ]
  },
  {
   "cell_type": "code",
   "execution_count": 12,
   "id": "c40c126b-a9de-43e3-af67-22a777a0aaa3",
   "metadata": {},
   "outputs": [
    {
     "name": "stdout",
     "output_type": "stream",
     "text": [
      "Range array: [ 0  2  4  6  8 10]\n"
     ]
    }
   ],
   "source": [
    "import numpy as np\n",
    "\n",
    "def create_range_array(start, stop, step):\n",
    "    # Adjust stop to be inclusive\n",
    "    stop_adjusted = stop + step if step > 0 else stop - step\n",
    "    return np.arange(start, stop_adjusted, step)\n",
    "\n",
    "# Example usage\n",
    "start = 0\n",
    "stop = 10\n",
    "step = 2\n",
    "range_array = create_range_array(start, stop, step)\n",
    "\n",
    "print(\"Range array:\", range_array)\n"
   ]
  },
  {
   "cell_type": "markdown",
   "id": "36f59dcd-b9ac-48d2-9c9d-e1772adf5119",
   "metadata": {},
   "source": [
    "# 22. Write a Python function using NumPy to generate an array of 10 equally spaced values between 0 and 1 (inclusive)"
   ]
  },
  {
   "cell_type": "code",
   "execution_count": 13,
   "id": "1bc2f821-0850-460f-9b3e-8de801463bd9",
   "metadata": {},
   "outputs": [
    {
     "name": "stdout",
     "output_type": "stream",
     "text": [
      "Equally spaced array: [0.         0.11111111 0.22222222 0.33333333 0.44444444 0.55555556\n",
      " 0.66666667 0.77777778 0.88888889 1.        ]\n"
     ]
    }
   ],
   "source": [
    "import numpy as np\n",
    "\n",
    "def generate_equal_spaced_array():\n",
    "    return np.linspace(0, 1, 10)\n",
    "\n",
    "# Example usage\n",
    "equal_spaced_array = generate_equal_spaced_array()\n",
    "\n",
    "print(\"Equally spaced array:\", equal_spaced_array)\n"
   ]
  },
  {
   "cell_type": "markdown",
   "id": "43066367-ef66-4cd7-835f-32e89e82d694",
   "metadata": {},
   "source": [
    "# 23. Write a Python function using NumPy to create an array of 5 logarithmically spaced values between 1 and 1000 (inclusive)."
   ]
  },
  {
   "cell_type": "code",
   "execution_count": 14,
   "id": "ab7ed747-a954-439f-bcdf-94325cdac2ec",
   "metadata": {},
   "outputs": [
    {
     "name": "stdout",
     "output_type": "stream",
     "text": [
      "Logarithmically spaced array: [   1.            5.62341325   31.6227766   177.827941   1000.        ]\n"
     ]
    }
   ],
   "source": [
    "import numpy as np\n",
    "\n",
    "def generate_log_spaced_array():\n",
    "    return np.logspace(0, 3, 5)  # log10(1) is 0 and log10(1000) is 3\n",
    "\n",
    "# Example usage\n",
    "log_spaced_array = generate_log_spaced_array()\n",
    "\n",
    "print(\"Logarithmically spaced array:\", log_spaced_array)\n"
   ]
  },
  {
   "cell_type": "markdown",
   "id": "6cf2d159-fdf9-40d1-aeff-69c2417c3f47",
   "metadata": {},
   "source": [
    "# 24. Create a Pandas DataFrame using a NumPy array that contains 5 rows and 3 columns, where the values are random integers between 1 and 100"
   ]
  },
  {
   "cell_type": "code",
   "execution_count": 15,
   "id": "3d6801ce-5018-4ee0-aed9-6e1837785ecd",
   "metadata": {},
   "outputs": [
    {
     "name": "stdout",
     "output_type": "stream",
     "text": [
      "   Column1  Column2  Column3\n",
      "0       54       37       14\n",
      "1       27       16       64\n",
      "2        1       51       25\n",
      "3       47       32       82\n",
      "4       46       66       71\n"
     ]
    }
   ],
   "source": [
    "import numpy as np\n",
    "import pandas as pd\n",
    "\n",
    "# Generate a NumPy array with random integers between 1 and 100\n",
    "data = np.random.randint(1, 101, size=(5, 3))\n",
    "\n",
    "# Create a Pandas DataFrame using the NumPy array\n",
    "df = pd.DataFrame(data, columns=['Column1', 'Column2', 'Column3'])\n",
    "\n",
    "# Print the DataFrame\n",
    "print(df)\n"
   ]
  },
  {
   "cell_type": "markdown",
   "id": "decb4b68-7130-4618-8ba7-9bab0a3c9a2e",
   "metadata": {},
   "source": [
    "# 25. Write a function that takes a Pandas DataFrame and replaces all negative values in a specific column with zeros. Use NumPy operations within the Pandas DataFrame."
   ]
  },
  {
   "cell_type": "code",
   "execution_count": 16,
   "id": "7aff9c9d-9118-4907-8df5-cd0048da3ceb",
   "metadata": {},
   "outputs": [
    {
     "name": "stdout",
     "output_type": "stream",
     "text": [
      "Original DataFrame:\n",
      "   A  B\n",
      "0  1  5\n",
      "1 -2 -6\n",
      "2  3  7\n",
      "3 -4 -8\n",
      "4  5  9\n",
      "\n",
      "DataFrame after replacing negatives in column 'A' with zeros:\n",
      "   A  B\n",
      "0  1  5\n",
      "1  0 -6\n",
      "2  3  7\n",
      "3  0 -8\n",
      "4  5  9\n"
     ]
    }
   ],
   "source": [
    "import numpy as np\n",
    "import pandas as pd\n",
    "\n",
    "def replace_negatives_with_zeros(df, column_name):\n",
    "    df[column_name] = np.where(df[column_name] < 0, 0, df[column_name])\n",
    "    return df\n",
    "\n",
    "# Example usage\n",
    "data = {'A': [1, -2, 3, -4, 5], 'B': [5, -6, 7, -8, 9]}\n",
    "df = pd.DataFrame(data)\n",
    "\n",
    "print(\"Original DataFrame:\")\n",
    "print(df)\n",
    "\n",
    "# Replace negative values in column 'A' with zeros\n",
    "df = replace_negatives_with_zeros(df, 'A')\n",
    "\n",
    "print(\"\\nDataFrame after replacing negatives in column 'A' with zeros:\")\n",
    "print(df)\n"
   ]
  },
  {
   "cell_type": "markdown",
   "id": "a893e8bd-513e-4581-b64e-ab7821931bc9",
   "metadata": {},
   "source": [
    "# 26. Access the 3rd element from the given NumPy array. arr = np.array([10, 20, 30, 40, 50])"
   ]
  },
  {
   "cell_type": "code",
   "execution_count": 17,
   "id": "4aa0df16-1776-4d1d-a07c-6b3227212317",
   "metadata": {},
   "outputs": [
    {
     "name": "stdout",
     "output_type": "stream",
     "text": [
      "The 3rd element is: 30\n"
     ]
    }
   ],
   "source": [
    "import numpy as np\n",
    "\n",
    "# Given array\n",
    "arr = np.array([10, 20, 30, 40, 50])\n",
    "\n",
    "# Access the 3rd element (index 2)\n",
    "third_element = arr[2]\n",
    "\n",
    "print(\"The 3rd element is:\", third_element)\n"
   ]
  },
  {
   "cell_type": "markdown",
   "id": "b6cb9a90-bcc1-4ed6-8270-8a052bff3abe",
   "metadata": {},
   "source": [
    "# 27. Retrieve the element at index (1, 2) from the 2D NumPy array.\n",
    "# arr_2d = np.array([[1, 2, 3],\n",
    " # [4, 5, 6],\n",
    " # [7, 8, 9]])"
   ]
  },
  {
   "cell_type": "code",
   "execution_count": 18,
   "id": "c9940fe6-12a9-4e45-ae47-3798260381e5",
   "metadata": {},
   "outputs": [
    {
     "name": "stdout",
     "output_type": "stream",
     "text": [
      "The element at index (1, 2) is: 6\n"
     ]
    }
   ],
   "source": [
    "import numpy as np\n",
    "\n",
    "# Given 2D array\n",
    "arr_2d = np.array([[1, 2, 3],\n",
    "                   [4, 5, 6],\n",
    "                   [7, 8, 9]])\n",
    "\n",
    "# Access the element at index (1, 2)\n",
    "element = arr_2d[1, 2]\n",
    "\n",
    "print(\"The element at index (1, 2) is:\", element)\n"
   ]
  },
  {
   "cell_type": "markdown",
   "id": "eee455f9-7492-4c2d-aa0a-a396d2a59de3",
   "metadata": {},
   "source": [
    "#  28. Using boolean indexing, extract elements greater than 5 from the given NumPy array.\n",
    " # arr = np.array([3, 8, 2, 10, 5, 7])"
   ]
  },
  {
   "cell_type": "code",
   "execution_count": 20,
   "id": "5275d7b8-2f43-464e-bb5e-12d9d65aa6ce",
   "metadata": {},
   "outputs": [
    {
     "name": "stdout",
     "output_type": "stream",
     "text": [
      "Elements greater than 5: [ 8 10  7]\n"
     ]
    }
   ],
   "source": [
    "import numpy as np\n",
    "\n",
    "# Given array\n",
    "arr = np.array([3, 8, 2, 10, 5, 7])\n",
    "\n",
    "# Extract elements greater than 5 using boolean indexing\n",
    "elements_greater_than_5 = arr[arr > 5]\n",
    "\n",
    "print(\"Elements greater than 5:\", elements_greater_than_5)"
   ]
  },
  {
   "cell_type": "markdown",
   "id": "a472459c-cf7f-4356-96db-cc7948798b38",
   "metadata": {},
   "source": [
    " # 29. Perform basic slicing to extract elements from index 2 to 5 (inclusive) from the given NumPy array.\n",
    " # arr = np.array([1, 2, 3, 4, 5, 6, 7, 8, 9])"
   ]
  },
  {
   "cell_type": "code",
   "execution_count": 21,
   "id": "35f569a2-60a1-4283-9d34-6f3a7c45e781",
   "metadata": {},
   "outputs": [
    {
     "name": "stdout",
     "output_type": "stream",
     "text": [
      "Elements from index 2 to 5 (inclusive): [3 4 5 6]\n"
     ]
    }
   ],
   "source": [
    "import numpy as np\n",
    "\n",
    "# Given array\n",
    "arr = np.array([1, 2, 3, 4, 5, 6, 7, 8, 9])\n",
    "\n",
    "# Extract elements from index 2 to 5 (inclusive)\n",
    "sliced_elements = arr[2:6]\n",
    "\n",
    "print(\"Elements from index 2 to 5 (inclusive):\", sliced_elements)\n"
   ]
  },
  {
   "cell_type": "markdown",
   "id": "f27a6979-c46e-415f-a7c1-732c1c9ae520",
   "metadata": {},
   "source": [
    "# 30. Slice the 2D NumPy array to extract the sub-array [[2, 3], [5, 6]] from the given array.\n",
    " # arr_2d = np.array([[1, 2, 3],\n",
    " # [4, 5, 6],\n",
    " # [7, 8, 9]])"
   ]
  },
  {
   "cell_type": "code",
   "execution_count": 22,
   "id": "c96d6611-1594-4099-8eb1-9af43874d05c",
   "metadata": {},
   "outputs": [
    {
     "name": "stdout",
     "output_type": "stream",
     "text": [
      "Sub-array [[2, 3], [5, 6]]:\n",
      "[[2 3]\n",
      " [5 6]]\n"
     ]
    }
   ],
   "source": [
    "import numpy as np\n",
    "\n",
    "# Given 2D array\n",
    "arr_2d = np.array([[1, 2, 3],\n",
    "                   [4, 5, 6],\n",
    "                   [7, 8, 9]])\n",
    "\n",
    "# Extract the sub-array [[2, 3], [5, 6]]\n",
    "sub_array = arr_2d[0:2, 1:3]\n",
    "\n",
    "print(\"Sub-array [[2, 3], [5, 6]]:\")\n",
    "print(sub_array)\n"
   ]
  },
  {
   "cell_type": "markdown",
   "id": "0250888a-693d-4838-8842-4b73447c8eef",
   "metadata": {},
   "source": [
    "# 31.Write a NumPy function to extract elements in specific order from a given 2D array based on indices provided in another array."
   ]
  },
  {
   "cell_type": "code",
   "execution_count": 1,
   "id": "c5fc35c9-4acd-400c-9fa2-c3306055ed41",
   "metadata": {},
   "outputs": [
    {
     "name": "stdout",
     "output_type": "stream",
     "text": [
      "Extracted elements: [2 7 6]\n"
     ]
    }
   ],
   "source": [
    "import numpy as np\n",
    "\n",
    "def extract_elements_by_indices(arr_2d, indices):\n",
    "    return arr_2d[indices[:, 0], indices[:, 1]]\n",
    "\n",
    "# Example usage\n",
    "arr_2d = np.array([[1, 2, 3],\n",
    "                   [4, 5, 6],\n",
    "                   [7, 8, 9]])\n",
    "\n",
    "# Indices to extract elements (each pair is a row and column index)\n",
    "indices = np.array([[0, 1],  # Element at (0, 1)\n",
    "                    [2, 0],  # Element at (2, 0)\n",
    "                    [1, 2]]) # Element at (1, 2)\n",
    "\n",
    "# Extract elements based on indices\n",
    "extracted_elements = extract_elements_by_indices(arr_2d, indices)\n",
    "\n",
    "print(\"Extracted elements:\", extracted_elements)\n"
   ]
  },
  {
   "cell_type": "markdown",
   "id": "c322e23f-160d-42d1-9c72-7d42229f75f2",
   "metadata": {},
   "source": [
    "# 32. Create a NumPy function that filters elements greater than a threshold from a given 1D array using boolean indexing."
   ]
  },
  {
   "cell_type": "code",
   "execution_count": 2,
   "id": "87786e7b-0022-4b6b-a986-3a83e0ea6924",
   "metadata": {},
   "outputs": [
    {
     "name": "stdout",
     "output_type": "stream",
     "text": [
      "Original array: [ 1  5  8  3  7  2 10]\n",
      "Filtered elements greater than 5 : [ 8  7 10]\n"
     ]
    }
   ],
   "source": [
    "import numpy as np\n",
    "\n",
    "def filter_elements_greater_than_threshold(arr, threshold):\n",
    "    return arr[arr > threshold]\n",
    "\n",
    "# Example usage\n",
    "arr = np.array([1, 5, 8, 3, 7, 2, 10])\n",
    "threshold = 5\n",
    "\n",
    "# Filter elements greater than the threshold\n",
    "filtered_elements = filter_elements_greater_than_threshold(arr, threshold)\n",
    "\n",
    "print(\"Original array:\", arr)\n",
    "print(\"Filtered elements greater than\", threshold, \":\", filtered_elements)\n"
   ]
  },
  {
   "cell_type": "markdown",
   "id": "b28fb2d4-4e61-4e09-bcea-c88d2a366faa",
   "metadata": {},
   "source": [
    "# 33. Develop a NumPy function that extracts specific elements from a 3D array using indices provided in three separate arrays for each dimension."
   ]
  },
  {
   "cell_type": "code",
   "execution_count": 3,
   "id": "6b74cf1d-a5c9-4edd-8c7e-70d98fca7c07",
   "metadata": {},
   "outputs": [
    {
     "name": "stdout",
     "output_type": "stream",
     "text": [
      "Extracted elements: [ 6 16 20]\n"
     ]
    }
   ],
   "source": [
    "import numpy as np\n",
    "\n",
    "def extract_elements_3d(arr, idx1, idx2, idx3):\n",
    "    return arr[idx1, idx2, idx3]\n",
    "\n",
    "# Example usage\n",
    "arr_3d = np.array([[[ 1,  2,  3],\n",
    "                    [ 4,  5,  6],\n",
    "                    [ 7,  8,  9]],\n",
    "                   \n",
    "                   [[10, 11, 12],\n",
    "                    [13, 14, 15],\n",
    "                    [16, 17, 18]],\n",
    "                   \n",
    "                   [[19, 20, 21],\n",
    "                    [22, 23, 24],\n",
    "                    [25, 26, 27]]])\n",
    "\n",
    "# Indices to extract elements\n",
    "idx1 = np.array([0, 1, 2])  # Indices for the first dimension\n",
    "idx2 = np.array([1, 2, 0])  # Indices for the second dimension\n",
    "idx3 = np.array([2, 0, 1])  # Indices for the third dimension\n",
    "\n",
    "# Extract elements based on indices\n",
    "extracted_elements = extract_elements_3d(arr_3d, idx1, idx2, idx3)\n",
    "\n",
    "print(\"Extracted elements:\", extracted_elements)\n"
   ]
  },
  {
   "cell_type": "markdown",
   "id": "8491142f-402a-400c-bace-c1512696bbec",
   "metadata": {},
   "source": [
    "# 34. Write a NumPy function that returns elements from an array where both two conditions are satisfied using boolean indexing"
   ]
  },
  {
   "cell_type": "code",
   "execution_count": 5,
   "id": "afbbcdfa-db78-42b0-91b3-26dcc0a87885",
   "metadata": {},
   "outputs": [
    {
     "name": "stdout",
     "output_type": "stream",
     "text": [
      "Original array: [ 1  2  3  4  5  6  7  8  9 10]\n",
      "Filtered elements (arr > 3 and arr < 8): [4 5 6 7]\n"
     ]
    }
   ],
   "source": [
    "import numpy as np\n",
    "\n",
    "def filter_elements_by_two_conditions(arr, condition1, condition2):\n",
    "    return arr[np.logical_and(condition1, condition2)]\n",
    "\n",
    "# Example usage\n",
    "arr = np.array([1, 2, 3, 4, 5, 6, 7, 8, 9, 10])\n",
    "\n",
    "# Define two conditions\n",
    "condition1 = arr > 3\n",
    "condition2 = arr < 8\n",
    "\n",
    "# Filter elements where both conditions are satisfied\n",
    "filtered_elements = filter_elements_by_two_conditions(arr, condition1, condition2)\n",
    "\n",
    "print(\"Original array:\", arr)\n",
    "print(\"Filtered elements (arr > 3 and arr < 8):\", filtered_elements)\n"
   ]
  },
  {
   "cell_type": "markdown",
   "id": "86ed4492-c98a-44f6-95e7-8c61e04d9fcc",
   "metadata": {},
   "source": [
    "# 35. Create a NumPy function that extracts elements from a 2D array using row and column indices provided in separate arrays."
   ]
  },
  {
   "cell_type": "code",
   "execution_count": 6,
   "id": "ee764f6b-1c58-47f1-955e-f46c88b9f524",
   "metadata": {},
   "outputs": [
    {
     "name": "stdout",
     "output_type": "stream",
     "text": [
      "Original 2D array:\n",
      "[[1 2 3]\n",
      " [4 5 6]\n",
      " [7 8 9]]\n",
      "Extracted elements: [3 5 7]\n"
     ]
    }
   ],
   "source": [
    "import numpy as np\n",
    "\n",
    "def extract_elements_by_row_col_indices(arr, row_indices, col_indices):\n",
    "    return arr[row_indices, col_indices]\n",
    "\n",
    "# Example usage\n",
    "arr_2d = np.array([[1, 2, 3],\n",
    "                   [4, 5, 6],\n",
    "                   [7, 8, 9]])\n",
    "\n",
    "# Row and column indices to extract elements\n",
    "row_indices = np.array([0, 1, 2])  # Row indices\n",
    "col_indices = np.array([2, 1, 0])  # Column indices\n",
    "\n",
    "# Extract elements based on row and column indices\n",
    "extracted_elements = extract_elements_by_row_col_indices(arr_2d, row_indices, col_indices)\n",
    "\n",
    "print(\"Original 2D array:\")\n",
    "print(arr_2d)\n",
    "print(\"Extracted elements:\", extracted_elements)\n"
   ]
  },
  {
   "cell_type": "markdown",
   "id": "d43e46a8-6755-4c30-afdf-760da64b8ed8",
   "metadata": {},
   "source": [
    "#  36. Given an array arr of shape (3, 3), add a scalar value of 5 to each element using NumPy broadcasting."
   ]
  },
  {
   "cell_type": "code",
   "execution_count": 7,
   "id": "c8d8aa79-1ee7-4cf3-bc3f-11470735e25d",
   "metadata": {},
   "outputs": [
    {
     "name": "stdout",
     "output_type": "stream",
     "text": [
      "Original array:\n",
      "[[1 2 3]\n",
      " [4 5 6]\n",
      " [7 8 9]]\n",
      "\n",
      "Array after adding 5 to each element:\n",
      "[[ 6  7  8]\n",
      " [ 9 10 11]\n",
      " [12 13 14]]\n"
     ]
    }
   ],
   "source": [
    "import numpy as np\n",
    "\n",
    "# Given array of shape (3, 3)\n",
    "arr = np.array([[1, 2, 3],\n",
    "                [4, 5, 6],\n",
    "                [7, 8, 9]])\n",
    "\n",
    "# Add a scalar value of 5 to each element\n",
    "arr_plus_5 = arr + 5\n",
    "\n",
    "print(\"Original array:\")\n",
    "print(arr)\n",
    "print(\"\\nArray after adding 5 to each element:\")\n",
    "print(arr_plus_5)\n"
   ]
  },
  {
   "cell_type": "markdown",
   "id": "8cab78ef-9605-4db3-ae2d-3ebded0960c9",
   "metadata": {},
   "source": [
    "#  37. Consider two arrays arr1 of shape (1, 3) and arr2 of shape (3, 4). Multiply each row of arr2 by the corresponding element in arr1 using NumPy broadcasting."
   ]
  },
  {
   "cell_type": "code",
   "execution_count": 8,
   "id": "273f8f84-c427-447c-b755-6f5b22c1ffe0",
   "metadata": {},
   "outputs": [
    {
     "name": "stdout",
     "output_type": "stream",
     "text": [
      "Array arr1:\n",
      "[[2 3 4]]\n",
      "\n",
      "Array arr2:\n",
      "[[ 1  2  3  4]\n",
      " [ 5  6  7  8]\n",
      " [ 9 10 11 12]]\n",
      "\n",
      "Result after broadcasting and multiplying:\n",
      "[[ 2  4  6  8]\n",
      " [15 18 21 24]\n",
      " [36 40 44 48]]\n"
     ]
    }
   ],
   "source": [
    "import numpy as np\n",
    "\n",
    "# Define the given arrays\n",
    "arr1 = np.array([[2, 3, 4]])  # Shape (1, 3)\n",
    "arr2 = np.array([[1, 2, 3, 4], \n",
    "                 [5, 6, 7, 8], \n",
    "                 [9, 10, 11, 12]])  # Shape (3, 4)\n",
    "\n",
    "# Reshape arr1 to be (3, 1) so it can be broadcast across each row of arr2\n",
    "arr1_reshaped = arr1.T  # Transpose arr1 to shape (3, 1)\n",
    "\n",
    "# Multiply each row of arr2 by the corresponding element in arr1\n",
    "result = arr2 * arr1_reshaped\n",
    "\n",
    "print(\"Array arr1:\")\n",
    "print(arr1)\n",
    "print(\"\\nArray arr2:\")\n",
    "print(arr2)\n",
    "print(\"\\nResult after broadcasting and multiplying:\")\n",
    "print(result)\n"
   ]
  },
  {
   "cell_type": "markdown",
   "id": "f81db099-c5e5-4a3c-8bbe-dd861bcc2af0",
   "metadata": {},
   "source": [
    "#  38. Given a 1D array arr1 of shape (1, 4) and a 2D array arr2 of shape (4, 3), add arr1 to each row of arr2 using NumPy broadcasting."
   ]
  },
  {
   "cell_type": "code",
   "execution_count": 9,
   "id": "04474c53-ce6d-44d1-af65-e8ad704d6278",
   "metadata": {},
   "outputs": [
    {
     "name": "stdout",
     "output_type": "stream",
     "text": [
      "Array arr1:\n",
      "[1 2 3 4]\n",
      "\n",
      "Array arr2:\n",
      "[[ 5  6  7]\n",
      " [ 8  9 10]\n",
      " [11 12 13]\n",
      " [14 15 16]]\n",
      "\n",
      "Result after broadcasting and adding:\n",
      "[[ 6  7  8]\n",
      " [10 11 12]\n",
      " [14 15 16]\n",
      " [18 19 20]]\n"
     ]
    }
   ],
   "source": [
    "import numpy as np\n",
    "\n",
    "# Define the given arrays\n",
    "arr1 = np.array([1, 2, 3, 4])  # Shape (4,)\n",
    "arr2 = np.array([[ 5,  6,  7],\n",
    "                 [ 8,  9, 10],\n",
    "                 [11, 12, 13],\n",
    "                 [14, 15, 16]])  # Shape (4, 3)\n",
    "\n",
    "# Reshape arr1 to be compatible with arr2 for broadcasting\n",
    "arr1_reshaped = arr1[:, np.newaxis]  # Shape (4, 1)\n",
    "\n",
    "# Add arr1 to each row of arr2\n",
    "result = arr2 + arr1_reshaped\n",
    "\n",
    "print(\"Array arr1:\")\n",
    "print(arr1)\n",
    "print(\"\\nArray arr2:\")\n",
    "print(arr2)\n",
    "print(\"\\nResult after broadcasting and adding:\")\n",
    "print(result)\n"
   ]
  },
  {
   "cell_type": "markdown",
   "id": "9b76279e-8519-4a76-b112-fc6c4b5b9628",
   "metadata": {},
   "source": [
    "# 39. Consider two arrays arr1 of shape (3, 1) and arr2 of shape (1, 3). Add these arrays using NumPy broadcasting."
   ]
  },
  {
   "cell_type": "code",
   "execution_count": 10,
   "id": "80229414-12d7-4870-92b9-46ec00e84b20",
   "metadata": {},
   "outputs": [
    {
     "name": "stdout",
     "output_type": "stream",
     "text": [
      "Array arr1:\n",
      "[[1]\n",
      " [2]\n",
      " [3]]\n",
      "\n",
      "Array arr2:\n",
      "[[4 5 6]]\n",
      "\n",
      "Result after broadcasting and adding:\n",
      "[[5 6 7]\n",
      " [6 7 8]\n",
      " [7 8 9]]\n"
     ]
    }
   ],
   "source": [
    "import numpy as np\n",
    "\n",
    "# Define the given arrays\n",
    "arr1 = np.array([[1], \n",
    "                 [2], \n",
    "                 [3]])  # Shape (3, 1)\n",
    "arr2 = np.array([[4, 5, 6]])  # Shape (1, 3)\n",
    "\n",
    "# Add the arrays using broadcasting\n",
    "result = arr1 + arr2\n",
    "\n",
    "print(\"Array arr1:\")\n",
    "print(arr1)\n",
    "print(\"\\nArray arr2:\")\n",
    "print(arr2)\n",
    "print(\"\\nResult after broadcasting and adding:\")\n",
    "print(result)\n"
   ]
  },
  {
   "cell_type": "markdown",
   "id": "98fb8b13-8667-4e58-93bf-74db4f483213",
   "metadata": {},
   "source": [
    "# 40. Given arrays arr1 of shape (2, 3) and arr2 of shape (2, 2), perform multiplication using NumPy broadcasting. Handle the shape incompatibility."
   ]
  },
  {
   "cell_type": "code",
   "execution_count": 1,
   "id": "e4c62bce-0ffd-40b5-b435-fb933fd39ea8",
   "metadata": {},
   "outputs": [
    {
     "name": "stdout",
     "output_type": "stream",
     "text": [
      "Array arr1:\n",
      "[[1 2 3]\n",
      " [4 5 6]]\n",
      "\n",
      "Array arr2 (after expansion):\n",
      "[[ 7  8  7]\n",
      " [ 9 10  9]]\n",
      "\n",
      "Result after broadcasting and multiplying:\n",
      "[[ 7 16 21]\n",
      " [36 50 54]]\n"
     ]
    }
   ],
   "source": [
    "import numpy as np\n",
    "\n",
    "# Define the given arrays\n",
    "arr1 = np.array([[1, 2, 3],\n",
    "                 [4, 5, 6]])  # Shape (2, 3)\n",
    "arr2 = np.array([[7, 8],\n",
    "                 [9, 10]])  # Shape (2, 2)\n",
    "\n",
    "# To handle the shape incompatibility, we need to extend arr2's shape to be compatible with arr1\n",
    "# Repeat arr2 along the second axis to match arr1's shape\n",
    "arr2_expanded = np.hstack((arr2, arr2[:, :1]))\n",
    "\n",
    "# Perform the multiplication using broadcasting\n",
    "result = arr1 * arr2_expanded\n",
    "\n",
    "print(\"Array arr1:\")\n",
    "print(arr1)\n",
    "print(\"\\nArray arr2 (after expansion):\")\n",
    "print(arr2_expanded)\n",
    "print(\"\\nResult after broadcasting and multiplying:\")\n",
    "print(result)\n"
   ]
  },
  {
   "cell_type": "markdown",
   "id": "87567312-7da2-4fc1-a1ee-08406c95511d",
   "metadata": {},
   "source": [
    "# 41. Calculate column-wise mean for the given array: arr = np.array([[1, 2, 3], [4, 5, 6]])"
   ]
  },
  {
   "cell_type": "code",
   "execution_count": 3,
   "id": "38297ea9-d5c6-4e7a-9b7a-a60c41959f9e",
   "metadata": {},
   "outputs": [
    {
     "name": "stdout",
     "output_type": "stream",
     "text": [
      "Original array:\n",
      "[[1 2 3]\n",
      " [4 5 6]]\n",
      "\n",
      "Column-wise mean:\n",
      "[2.5 3.5 4.5]\n"
     ]
    }
   ],
   "source": [
    "import numpy as np\n",
    "\n",
    "# Given array\n",
    "arr = np.array([[1, 2, 3], \n",
    "                [4, 5, 6]])\n",
    "\n",
    "# Calculate column-wise mean\n",
    "column_wise_mean = np.mean(arr, axis=0)\n",
    "\n",
    "print(\"Original array:\")\n",
    "print(arr)\n",
    "print(\"\\nColumn-wise mean:\")\n",
    "print(column_wise_mean)\n"
   ]
  },
  {
   "cell_type": "markdown",
   "id": "54d04464-d786-489d-ab8b-d76d9c439def",
   "metadata": {},
   "source": [
    "#   42. Find maximum value in each row of the given array:  arr = np.array([[1, 2, 3], [4, 5, 6]])"
   ]
  },
  {
   "cell_type": "code",
   "execution_count": 4,
   "id": "6b755ead-a676-4283-9304-3ec6426d7f87",
   "metadata": {},
   "outputs": [
    {
     "name": "stdout",
     "output_type": "stream",
     "text": [
      "Original array:\n",
      "[[1 2 3]\n",
      " [4 5 6]]\n",
      "\n",
      "Maximum value in each row:\n",
      "[3 6]\n"
     ]
    }
   ],
   "source": [
    "import numpy as np\n",
    "\n",
    "# Given array\n",
    "arr = np.array([[1, 2, 3], \n",
    "                [4, 5, 6]])\n",
    "\n",
    "# Find maximum value in each row\n",
    "row_wise_max = np.max(arr, axis=1)\n",
    "\n",
    "print(\"Original array:\")\n",
    "print(arr)\n",
    "print(\"\\nMaximum value in each row:\")\n",
    "print(row_wise_max)\n"
   ]
  },
  {
   "cell_type": "markdown",
   "id": "73b80b15-927f-41b4-867d-7e2a78b79c19",
   "metadata": {},
   "source": [
    "#  43. For the given array, find indices of maximum value in each column.    arr = np.array([[1, 2, 3], [4, 5, 6]])"
   ]
  },
  {
   "cell_type": "code",
   "execution_count": 5,
   "id": "f6079cf4-f51d-4c60-b052-27cf54e6b891",
   "metadata": {},
   "outputs": [
    {
     "name": "stdout",
     "output_type": "stream",
     "text": [
      "Original array:\n",
      "[[1 2 3]\n",
      " [4 5 6]]\n",
      "\n",
      "Indices of maximum value in each column:\n",
      "[1 1 1]\n"
     ]
    }
   ],
   "source": [
    "import numpy as np\n",
    "\n",
    "# Given array\n",
    "arr = np.array([[1, 2, 3], \n",
    "                [4, 5, 6]])\n",
    "\n",
    "# Find indices of maximum value in each column\n",
    "column_wise_max_indices = np.argmax(arr, axis=0)\n",
    "\n",
    "print(\"Original array:\")\n",
    "print(arr)\n",
    "print(\"\\nIndices of maximum value in each column:\")\n",
    "print(column_wise_max_indices)\n"
   ]
  },
  {
   "cell_type": "markdown",
   "id": "17f0bb43-ac01-4d59-969a-37ce58f4df37",
   "metadata": {},
   "source": [
    "#  44. For the given array, apply custom function to calculate moving sum along rows.   arr = np.array([[1, 2, 3], [4, 5, 6]])"
   ]
  },
  {
   "cell_type": "code",
   "execution_count": 1,
   "id": "865c1ab6-e6a4-4dab-be48-256269d82490",
   "metadata": {},
   "outputs": [
    {
     "name": "stdout",
     "output_type": "stream",
     "text": [
      "Original array:\n",
      "[[1 2 3]\n",
      " [4 5 6]]\n",
      "\n",
      "Moving sum along rows (window size 2):\n",
      "[[ 1  3  5]\n",
      " [ 4  9 11]]\n"
     ]
    }
   ],
   "source": [
    "import numpy as np\n",
    "\n",
    "def moving_sum(arr, window_size=2):\n",
    "    # Create an empty array to store the results\n",
    "    result = np.zeros_like(arr)\n",
    "    \n",
    "    # Calculate the moving sum for each row\n",
    "    for i in range(arr.shape[0]):\n",
    "        for j in range(arr.shape[1]):\n",
    "            if j < window_size - 1:\n",
    "                result[i, j] = np.sum(arr[i, :j+1])\n",
    "            else:\n",
    "                result[i, j] = np.sum(arr[i, j-window_size+1:j+1])\n",
    "    \n",
    "    return result\n",
    "\n",
    "# Given array\n",
    "arr = np.array([[1, 2, 3], \n",
    "                [4, 5, 6]])\n",
    "\n",
    "# Apply the custom function to calculate the moving sum along rows\n",
    "moving_sum_result = moving_sum(arr, window_size=2)\n",
    "\n",
    "print(\"Original array:\")\n",
    "print(arr)\n",
    "print(\"\\nMoving sum along rows (window size 2):\")\n",
    "print(moving_sum_result)\n"
   ]
  },
  {
   "cell_type": "markdown",
   "id": "2912907a-5967-4d16-826c-b8313e68ee23",
   "metadata": {},
   "source": [
    "# 45. In the given array, check if all elements in each column are even.             arr = np.array([[2, 4, 6], [3, 5, 7]])"
   ]
  },
  {
   "cell_type": "code",
   "execution_count": 3,
   "id": "ecc9aa87-40aa-47cb-9263-b9131fc89ff0",
   "metadata": {},
   "outputs": [
    {
     "name": "stdout",
     "output_type": "stream",
     "text": [
      "Original array:\n",
      "[[2 4 6]\n",
      " [3 5 7]]\n",
      "\n",
      "Check if all elements in each column are even:\n",
      "[False False False]\n"
     ]
    }
   ],
   "source": [
    "import numpy as np\n",
    "\n",
    "# Given array\n",
    "arr = np.array([[2, 4, 6], \n",
    "                [3, 5, 7]])\n",
    "\n",
    "# Check if all elements in each column are even\n",
    "even_check = (arr % 2 == 0)\n",
    "all_even_columns = np.all(even_check, axis=0)\n",
    "\n",
    "print(\"Original array:\")\n",
    "print(arr)\n",
    "print(\"\\nCheck if all elements in each column are even:\")\n",
    "print(all_even_columns)"
   ]
  },
  {
   "cell_type": "markdown",
   "id": "4bdb3726-6dfa-433a-bda5-c689272ca7d3",
   "metadata": {},
   "source": [
    "# 46. Given a NumPy array arr, reshape it into a matrix of dimensions m rows and n columns. Return the reshaped matrix.    original_array = np.array([1, 2, 3, 4, 5, 6])"
   ]
  },
  {
   "cell_type": "code",
   "execution_count": 4,
   "id": "2afb3f3a-1779-46a2-a2e1-740d4ea4f10c",
   "metadata": {},
   "outputs": [
    {
     "name": "stdout",
     "output_type": "stream",
     "text": [
      "Original array:\n",
      "[1 2 3 4 5 6]\n",
      "\n",
      "Reshaped matrix (2 rows, 3 columns):\n",
      "[[1 2 3]\n",
      " [4 5 6]]\n"
     ]
    }
   ],
   "source": [
    "import numpy as np\n",
    "\n",
    "def reshape_array(arr, m, n):\n",
    "    return arr.reshape(m, n)\n",
    "\n",
    "# Given array\n",
    "original_array = np.array([1, 2, 3, 4, 5, 6])\n",
    "\n",
    "# Specify the dimensions for reshaping\n",
    "m = 2\n",
    "n = 3\n",
    "\n",
    "# Reshape the array\n",
    "reshaped_matrix = reshape_array(original_array, m, n)\n",
    "\n",
    "print(\"Original array:\")\n",
    "print(original_array)\n",
    "print(\"\\nReshaped matrix ({} rows, {} columns):\".format(m, n))\n",
    "print(reshaped_matrix)\n"
   ]
  },
  {
   "cell_type": "markdown",
   "id": "1709ab41-7a66-47e0-a7ab-2eb0614d783b",
   "metadata": {},
   "source": [
    "# 47. Create a function that takes a matrix as input and returns the flattened array.                                       input_matrix = np.array([[1, 2, 3], [4, 5, 6]])"
   ]
  },
  {
   "cell_type": "code",
   "execution_count": 5,
   "id": "df7ab460-ef06-4194-a0e3-9be01f229a9d",
   "metadata": {},
   "outputs": [
    {
     "name": "stdout",
     "output_type": "stream",
     "text": [
      "Input matrix:\n",
      "[[1 2 3]\n",
      " [4 5 6]]\n",
      "\n",
      "Flattened array:\n",
      "[1 2 3 4 5 6]\n"
     ]
    }
   ],
   "source": [
    "import numpy as np\n",
    "\n",
    "def flatten_matrix(matrix):\n",
    "    return matrix.flatten()\n",
    "\n",
    "# Example input matrix\n",
    "input_matrix = np.array([[1, 2, 3], \n",
    "                         [4, 5, 6]])\n",
    "\n",
    "# Flatten the matrix\n",
    "flattened_array = flatten_matrix(input_matrix)\n",
    "\n",
    "print(\"Input matrix:\")\n",
    "print(input_matrix)\n",
    "print(\"\\nFlattened array:\")\n",
    "print(flattened_array)\n"
   ]
  },
  {
   "cell_type": "markdown",
   "id": "b6ec703a-b60a-4a38-ad70-907d18156507",
   "metadata": {},
   "source": [
    "# 48. Write a function that concatenates two given arrays along a specified axis.         array1 = np.array([[1, 2], [3, 4]])           array2 = np.array([[5, 6], [7, 8]])"
   ]
  },
  {
   "cell_type": "code",
   "execution_count": 6,
   "id": "15d16edb-b037-49b3-a9d0-ca72c4a4e699",
   "metadata": {},
   "outputs": [
    {
     "name": "stdout",
     "output_type": "stream",
     "text": [
      "Concatenated array along axis 0 (rows):\n",
      "[[1 2]\n",
      " [3 4]\n",
      " [5 6]\n",
      " [7 8]]\n",
      "\n",
      "Concatenated array along axis 1 (columns):\n",
      "[[1 2 5 6]\n",
      " [3 4 7 8]]\n"
     ]
    }
   ],
   "source": [
    "import numpy as np\n",
    "\n",
    "def concatenate_arrays(arr1, arr2, axis):\n",
    "    return np.concatenate((arr1, arr2), axis=axis)\n",
    "\n",
    "# Example input arrays\n",
    "array1 = np.array([[1, 2], \n",
    "                   [3, 4]])\n",
    "array2 = np.array([[5, 6], \n",
    "                   [7, 8]])\n",
    "\n",
    "# Concatenate arrays along axis 0 (rows)\n",
    "concatenated_array_axis0 = concatenate_arrays(array1, array2, axis=0)\n",
    "print(\"Concatenated array along axis 0 (rows):\")\n",
    "print(concatenated_array_axis0)\n",
    "\n",
    "# Concatenate arrays along axis 1 (columns)\n",
    "concatenated_array_axis1 = concatenate_arrays(array1, array2, axis=1)\n",
    "print(\"\\nConcatenated array along axis 1 (columns):\")\n",
    "print(concatenated_array_axis1)\n"
   ]
  },
  {
   "cell_type": "markdown",
   "id": "8c8cd612-14b5-4b85-9818-255abc0cabc2",
   "metadata": {},
   "source": [
    "#  49. Create a function that splits an array into multiple sub-arrays along a specified axis.     original_array = np.array([[1, 2, 3], [4, 5, 6], [7, 8, 9]])"
   ]
  },
  {
   "cell_type": "code",
   "execution_count": 7,
   "id": "debd0126-c471-4b55-87a4-474605bd233e",
   "metadata": {},
   "outputs": [
    {
     "name": "stdout",
     "output_type": "stream",
     "text": [
      "Original array:\n",
      "[[1 2 3]\n",
      " [4 5 6]\n",
      " [7 8 9]]\n",
      "\n",
      "Split arrays along axis 0 (rows):\n",
      "Sub-array 0:\n",
      "[[1 2 3]]\n",
      "Sub-array 1:\n",
      "[[4 5 6]]\n",
      "Sub-array 2:\n",
      "[[7 8 9]]\n",
      "\n",
      "Split arrays along axis 1 (columns):\n",
      "Sub-array 0:\n",
      "[[1]\n",
      " [4]\n",
      " [7]]\n",
      "Sub-array 1:\n",
      "[[2]\n",
      " [5]\n",
      " [8]]\n",
      "Sub-array 2:\n",
      "[[3]\n",
      " [6]\n",
      " [9]]\n"
     ]
    }
   ],
   "source": [
    "import numpy as np\n",
    "\n",
    "def split_array(arr, indices_or_sections, axis=0):\n",
    "    return np.split(arr, indices_or_sections, axis=axis)\n",
    "\n",
    "# Example input array\n",
    "original_array = np.array([[1, 2, 3], \n",
    "                           [4, 5, 6], \n",
    "                           [7, 8, 9]])\n",
    "\n",
    "# Specify the number of sections to split into or the indices\n",
    "indices_or_sections = 3  # Split into 3 equal parts along the specified axis\n",
    "\n",
    "# Split the array along axis 0 (rows)\n",
    "split_arrays_axis0 = split_array(original_array, indices_or_sections, axis=0)\n",
    "print(\"Original array:\")\n",
    "print(original_array)\n",
    "print(\"\\nSplit arrays along axis 0 (rows):\")\n",
    "for i, sub_array in enumerate(split_arrays_axis0):\n",
    "    print(f\"Sub-array {i}:\")\n",
    "    print(sub_array)\n",
    "\n",
    "# Split the array along axis 1 (columns)\n",
    "split_arrays_axis1 = split_array(original_array, indices_or_sections, axis=1)\n",
    "print(\"\\nSplit arrays along axis 1 (columns):\")\n",
    "for i, sub_array in enumerate(split_arrays_axis1):\n",
    "    print(f\"Sub-array {i}:\")\n",
    "    print(sub_array)\n"
   ]
  },
  {
   "cell_type": "markdown",
   "id": "d4f8bc2c-aac1-45d5-864b-6b5b38f2eab5",
   "metadata": {},
   "source": [
    "#  50. Write a function that inserts and then deletes elements from a given array at specified indices.  original_array = np.array([1, 2, 3, 4, 5])  indices_to_insert = [2, 4]   values_to_insert = [10, 11]    indices_to_delete = [1, 3]"
   ]
  },
  {
   "cell_type": "code",
   "execution_count": 8,
   "id": "c3dd63e4-13c8-48e5-9886-4a185a8f8c77",
   "metadata": {},
   "outputs": [
    {
     "name": "stdout",
     "output_type": "stream",
     "text": [
      "Original array:\n",
      "[1 2 3 4 5]\n",
      "\n",
      "Array after insertions:\n",
      "[ 1  2 10  3  4 11  5]\n",
      "\n",
      "Array after deletions:\n",
      "[ 1 10  3 11  5]\n"
     ]
    }
   ],
   "source": [
    "import numpy as np\n",
    "\n",
    "def insert_and_delete_elements(arr, indices_to_insert, values_to_insert, indices_to_delete):\n",
    "    # Insert elements at specified indices\n",
    "    arr_with_insertions = np.insert(arr, indices_to_insert, values_to_insert)\n",
    "    \n",
    "    # Adjust indices to delete after insertions\n",
    "    adjusted_indices_to_delete = np.array(indices_to_delete) + np.searchsorted(indices_to_insert, indices_to_delete, side='right')\n",
    "    \n",
    "    # Delete elements at specified indices\n",
    "    arr_with_deletions = np.delete(arr_with_insertions, adjusted_indices_to_delete)\n",
    "    \n",
    "    return arr_with_deletions\n",
    "\n",
    "# Example input\n",
    "original_array = np.array([1, 2, 3, 4, 5])\n",
    "indices_to_insert = [2, 4]\n",
    "values_to_insert = [10, 11]\n",
    "indices_to_delete = [1, 3]\n",
    "\n",
    "# Insert and delete elements\n",
    "result_array = insert_and_delete_elements(original_array, indices_to_insert, values_to_insert, indices_to_delete)\n",
    "\n",
    "print(\"Original array:\")\n",
    "print(original_array)\n",
    "print(\"\\nArray after insertions:\")\n",
    "print(np.insert(original_array, indices_to_insert, values_to_insert))\n",
    "print(\"\\nArray after deletions:\")\n",
    "print(result_array)\n"
   ]
  },
  {
   "cell_type": "markdown",
   "id": "070f40e7-cc8a-4640-9a39-0a44b93f7c30",
   "metadata": {},
   "source": [
    "#  51. Create a NumPy array `arr1` with random integers and another array `arr2` with integers from 1 to 10. Perform element-wise addition between `arr1` and `arr2`."
   ]
  },
  {
   "cell_type": "code",
   "execution_count": 1,
   "id": "716c4494-1668-40d5-b8e7-0ad299946941",
   "metadata": {},
   "outputs": [
    {
     "name": "stdout",
     "output_type": "stream",
     "text": [
      "Array arr1 (random integers):\n",
      "[84 25 43 74  7 34 64 28 12 47]\n",
      "\n",
      "Array arr2 (integers from 1 to 10):\n",
      "[ 1  2  3  4  5  6  7  8  9 10]\n",
      "\n",
      "Result of element-wise addition:\n",
      "[85 27 46 78 12 40 71 36 21 57]\n"
     ]
    }
   ],
   "source": [
    "import numpy as np\n",
    "\n",
    "# Create arr1 with random integers (let's assume the same shape as arr2 for simplicity)\n",
    "arr1 = np.random.randint(0, 100, size=10)\n",
    "\n",
    "# Create arr2 with integers from 1 to 10\n",
    "arr2 = np.arange(1, 11)\n",
    "\n",
    "# Perform element-wise addition\n",
    "result = arr1 + arr2\n",
    "\n",
    "print(\"Array arr1 (random integers):\")\n",
    "print(arr1)\n",
    "print(\"\\nArray arr2 (integers from 1 to 10):\")\n",
    "print(arr2)\n",
    "print(\"\\nResult of element-wise addition:\")\n",
    "print(result)\n"
   ]
  },
  {
   "cell_type": "markdown",
   "id": "16aa13eb-8a94-4366-9ed1-05d8092352ae",
   "metadata": {},
   "source": [
    "# 52. Generate a NumPy array arr1 with sequential integers from 10 to 1 and another array arr2 with integers from 1 to 10. Subtract arr2 from arr1 element-wise"
   ]
  },
  {
   "cell_type": "code",
   "execution_count": 2,
   "id": "81cddaad-acec-45fc-b4f8-f0a6c0677ade",
   "metadata": {},
   "outputs": [
    {
     "name": "stdout",
     "output_type": "stream",
     "text": [
      "Array arr1 (sequential integers from 10 to 1):\n",
      "[10  9  8  7  6  5  4  3  2  1]\n",
      "\n",
      "Array arr2 (integers from 1 to 10):\n",
      "[ 1  2  3  4  5  6  7  8  9 10]\n",
      "\n",
      "Result of element-wise subtraction (arr1 - arr2):\n",
      "[ 9  7  5  3  1 -1 -3 -5 -7 -9]\n"
     ]
    }
   ],
   "source": [
    "import numpy as np\n",
    "\n",
    "# Create arr1 with sequential integers from 10 to 1\n",
    "arr1 = np.arange(10, 0, -1)\n",
    "\n",
    "# Create arr2 with integers from 1 to 10\n",
    "arr2 = np.arange(1, 11)\n",
    "\n",
    "# Perform element-wise subtraction\n",
    "result = arr1 - arr2\n",
    "\n",
    "print(\"Array arr1 (sequential integers from 10 to 1):\")\n",
    "print(arr1)\n",
    "print(\"\\nArray arr2 (integers from 1 to 10):\")\n",
    "print(arr2)\n",
    "print(\"\\nResult of element-wise subtraction (arr1 - arr2):\")\n",
    "print(result)\n"
   ]
  },
  {
   "cell_type": "markdown",
   "id": "39f0066c-c803-483c-958e-108159a6904b",
   "metadata": {},
   "source": [
    "#  53. Create a NumPy array arr1 with random integers and another array arr2 with integers from 1 to 5. Perform element-wise multiplication between arr1 and arr2."
   ]
  },
  {
   "cell_type": "code",
   "execution_count": 3,
   "id": "9c7ace15-c2c7-4753-8bc3-a862ca2a8f7d",
   "metadata": {},
   "outputs": [
    {
     "name": "stdout",
     "output_type": "stream",
     "text": [
      "Array arr1 (random integers):\n",
      "[97 76  8 49 28]\n",
      "\n",
      "Array arr2 (integers from 1 to 5):\n",
      "[1 2 3 4 5]\n",
      "\n",
      "Result of element-wise multiplication:\n",
      "[ 97 152  24 196 140]\n"
     ]
    }
   ],
   "source": [
    "import numpy as np\n",
    "\n",
    "# Create arr1 with random integers (let's assume the same shape as arr2 for simplicity)\n",
    "arr1 = np.random.randint(0, 100, size=5)\n",
    "\n",
    "# Create arr2 with integers from 1 to 5\n",
    "arr2 = np.arange(1, 6)\n",
    "\n",
    "# Perform element-wise multiplication\n",
    "result = arr1 * arr2\n",
    "\n",
    "print(\"Array arr1 (random integers):\")\n",
    "print(arr1)\n",
    "print(\"\\nArray arr2 (integers from 1 to 5):\")\n",
    "print(arr2)\n",
    "print(\"\\nResult of element-wise multiplication:\")\n",
    "print(result)\n"
   ]
  },
  {
   "cell_type": "markdown",
   "id": "89acbe12-0a30-4284-8001-1796800cfeb5",
   "metadata": {},
   "source": [
    "#  54. Generate a NumPy array `arr1` with even integers from 2 to 10 and another array `arr2` with integers from 1 to 5. Perform element-wise division of `arr1` by `arr2`."
   ]
  },
  {
   "cell_type": "code",
   "execution_count": 4,
   "id": "40ddcb01-0e13-43cc-96d2-7436e0dfd29d",
   "metadata": {},
   "outputs": [
    {
     "name": "stdout",
     "output_type": "stream",
     "text": [
      "Array arr1 (even integers from 2 to 10):\n",
      "[ 2  4  6  8 10]\n",
      "\n",
      "Array arr2 (integers from 1 to 5):\n",
      "[1 2 3 4 5]\n",
      "\n",
      "Result of element-wise division (arr1 / arr2):\n",
      "[2. 2. 2. 2. 2.]\n"
     ]
    }
   ],
   "source": [
    "import numpy as np\n",
    "\n",
    "# Create arr1 with even integers from 2 to 10\n",
    "arr1 = np.arange(2, 11, 2)\n",
    "\n",
    "# Create arr2 with integers from 1 to 5\n",
    "arr2 = np.arange(1, 6)\n",
    "\n",
    "# Perform element-wise division\n",
    "result = arr1 / arr2\n",
    "\n",
    "print(\"Array arr1 (even integers from 2 to 10):\")\n",
    "print(arr1)\n",
    "print(\"\\nArray arr2 (integers from 1 to 5):\")\n",
    "print(arr2)\n",
    "print(\"\\nResult of element-wise division (arr1 / arr2):\")\n",
    "print(result)"
   ]
  },
  {
   "cell_type": "markdown",
   "id": "3f1b9042-fc83-4be0-8588-6090f623e6f4",
   "metadata": {},
   "source": [
    "# 55. Create a NumPy array arr1 with integers from 1 to 5 and another array arr2 with the same numbers reversed. Calculate the exponentiation of arr1 raised to the power of arr2 element-wise."
   ]
  },
  {
   "cell_type": "code",
   "execution_count": 5,
   "id": "ca0a8b51-5ad2-41dd-beba-f314193afd4f",
   "metadata": {},
   "outputs": [
    {
     "name": "stdout",
     "output_type": "stream",
     "text": [
      "Array arr1 (integers from 1 to 5):\n",
      "[1 2 3 4 5]\n",
      "\n",
      "Array arr2 (integers from 1 to 5, reversed):\n",
      "[5 4 3 2 1]\n",
      "\n",
      "Result of element-wise exponentiation (arr1 ** arr2):\n",
      "[ 1 16 27 16  5]\n"
     ]
    }
   ],
   "source": [
    "import numpy as np\n",
    "\n",
    "# Create arr1 with integers from 1 to 5\n",
    "arr1 = np.arange(1, 6)\n",
    "\n",
    "# Create arr2 with the same numbers reversed\n",
    "arr2 = arr1[::-1]\n",
    "\n",
    "# Perform element-wise exponentiation\n",
    "result = np.power(arr1, arr2)\n",
    "\n",
    "print(\"Array arr1 (integers from 1 to 5):\")\n",
    "print(arr1)\n",
    "print(\"\\nArray arr2 (integers from 1 to 5, reversed):\")\n",
    "print(arr2)\n",
    "print(\"\\nResult of element-wise exponentiation (arr1 ** arr2):\")\n",
    "print(result)\n"
   ]
  },
  {
   "cell_type": "markdown",
   "id": "c3d3014d-983a-402e-a729-c871dfd63eab",
   "metadata": {},
   "source": [
    "#  56. Write a function that counts the occurrences of a specific substring within a NumPy array of strings.      arr = np.array(['hello', 'world', 'hello', 'numpy', 'hello'])"
   ]
  },
  {
   "cell_type": "code",
   "execution_count": 6,
   "id": "c0ba6e17-e355-44b1-9ee7-f7cc413988c7",
   "metadata": {},
   "outputs": [
    {
     "name": "stdout",
     "output_type": "stream",
     "text": [
      "The substring 'hello' occurs 3 times in the array.\n"
     ]
    }
   ],
   "source": [
    "import numpy as np\n",
    "\n",
    "def count_substring_occurrences(arr, substring):\n",
    "    # Use vectorized string operations to count occurrences of the substring in each element\n",
    "    count = np.char.count(arr, substring)\n",
    "    # Sum the counts to get the total occurrences in the array\n",
    "    total_occurrences = np.sum(count)\n",
    "    return total_occurrences\n",
    "\n",
    "# Example input array\n",
    "arr = np.array(['hello', 'world', 'hello', 'numpy', 'hello'])\n",
    "\n",
    "# Specify the substring to count\n",
    "substring = 'hello'\n",
    "\n",
    "# Count occurrences of the substring\n",
    "occurrences = count_substring_occurrences(arr, substring)\n",
    "\n",
    "print(f\"The substring '{substring}' occurs {occurrences} times in the array.\")\n"
   ]
  },
  {
   "cell_type": "markdown",
   "id": "48ce2a9f-797e-451f-bcb5-3b570ad77a1d",
   "metadata": {},
   "source": [
    "#  57. Write a function that extracts uppercase characters from a NumPy array of strings.       arr = np.array(['Hello', 'World', 'OpenAI', 'GPT'])           arr = np.array(['Hello', 'World', 'OpenAI', 'GPT'])"
   ]
  },
  {
   "cell_type": "code",
   "execution_count": 8,
   "id": "8814c0de-589b-4c9b-8a51-ad30fb1d7c32",
   "metadata": {},
   "outputs": [
    {
     "name": "stdout",
     "output_type": "stream",
     "text": [
      "Original array:\n",
      "['Hello' 'World' 'OpenAI' 'GPT']\n",
      "\n",
      "Uppercase characters extracted:\n",
      "['H' 'W' 'OAI' 'GPT']\n"
     ]
    }
   ],
   "source": [
    "import numpy as np\n",
    "\n",
    "def extract_uppercase_characters(arr):\n",
    "    # Initialize an empty list to store the uppercase characters\n",
    "    uppercase_characters = []\n",
    "    \n",
    "    # Iterate over each string in the array\n",
    "    for string in arr:\n",
    "        # Extract uppercase characters from the string\n",
    "        uppercase_chars = ''.join([char for char in string if char.isupper()])\n",
    "        uppercase_characters.append(uppercase_chars)\n",
    "    \n",
    "    # Convert the list of uppercase characters to a NumPy array\n",
    "    result = np.array(uppercase_characters)\n",
    "    return result\n",
    "\n",
    "# Example input array\n",
    "arr = np.array(['Hello', 'World', 'OpenAI', 'GPT'])\n",
    "\n",
    "# Extract uppercase characters\n",
    "uppercase_characters_array = extract_uppercase_characters(arr)\n",
    "\n",
    "print(\"Original array:\")\n",
    "print(arr)\n",
    "print(\"\\nUppercase characters extracted:\")\n",
    "print(uppercase_characters_array)\n"
   ]
  },
  {
   "cell_type": "markdown",
   "id": "26d241f1-d429-456a-be1f-6c48a5f72990",
   "metadata": {},
   "source": [
    "# 58. Write a function that replaces occurrences of a substring in a NumPy array of strings with a new string.         arr = np.array(['apple', 'banana', 'grape', 'pineapple'])"
   ]
  },
  {
   "cell_type": "code",
   "execution_count": 9,
   "id": "34ccdfa1-c723-45be-a326-439845343459",
   "metadata": {},
   "outputs": [
    {
     "name": "stdout",
     "output_type": "stream",
     "text": [
      "Original array:\n",
      "['apple' 'banana' 'grape' 'pineapple']\n",
      "\n",
      "Array after replacing substring:\n",
      "['orange' 'banana' 'grape' 'pineorange']\n"
     ]
    }
   ],
   "source": [
    "import numpy as np\n",
    "\n",
    "def replace_substring(arr, old_substring, new_substring):\n",
    "    # Use np.char.replace to replace occurrences of old_substring with new_substring\n",
    "    replaced_array = np.char.replace(arr, old_substring, new_substring)\n",
    "    return replaced_array\n",
    "\n",
    "# Example input array\n",
    "arr = np.array(['apple', 'banana', 'grape', 'pineapple'])\n",
    "\n",
    "# Replace occurrences of 'apple' with 'orange'\n",
    "old_substring = 'apple'\n",
    "new_substring = 'orange'\n",
    "\n",
    "# Replace substring\n",
    "replaced_array = replace_substring(arr, old_substring, new_substring)\n",
    "\n",
    "print(\"Original array:\")\n",
    "print(arr)\n",
    "print(\"\\nArray after replacing substring:\")\n",
    "print(replaced_array)\n"
   ]
  },
  {
   "cell_type": "markdown",
   "id": "995e9939-77c4-4f77-9567-68a6507d9561",
   "metadata": {},
   "source": [
    "#  59. Write a function that concatenates strings in a NumPy array element-wise.    arr1 = np.array(['Hello', 'World'])         arr2 = np.array(['Open', 'AI'])"
   ]
  },
  {
   "cell_type": "code",
   "execution_count": 10,
   "id": "03533f11-fcbf-4c52-8565-87e80150eb66",
   "metadata": {},
   "outputs": [
    {
     "name": "stdout",
     "output_type": "stream",
     "text": [
      "Array arr1:\n",
      "['Hello' 'World']\n",
      "\n",
      "Array arr2:\n",
      "['Open' 'AI']\n",
      "\n",
      "Concatenated array:\n",
      "['HelloOpen' 'WorldAI']\n"
     ]
    }
   ],
   "source": [
    "import numpy as np\n",
    "\n",
    "def concatenate_strings_elementwise(arr1, arr2):\n",
    "    # Use np.char.add to concatenate the strings element-wise\n",
    "    concatenated_array = np.char.add(arr1, arr2)\n",
    "    return concatenated_array\n",
    "\n",
    "# Example input arrays\n",
    "arr1 = np.array(['Hello', 'World'])\n",
    "arr2 = np.array(['Open', 'AI'])\n",
    "\n",
    "# Concatenate strings element-wise\n",
    "concatenated_array = concatenate_strings_elementwise(arr1, arr2)\n",
    "\n",
    "print(\"Array arr1:\")\n",
    "print(arr1)\n",
    "print(\"\\nArray arr2:\")\n",
    "print(arr2)\n",
    "print(\"\\nConcatenated array:\")\n",
    "print(concatenated_array)\n"
   ]
  },
  {
   "cell_type": "markdown",
   "id": "6639f8d9-a191-4920-a6d6-1ac043cd92cd",
   "metadata": {},
   "source": [
    "#  60. Write a function that finds the length of the longest string in a NumPy array.     arr = np.array(['apple', 'banana', 'grape', 'pineapple'])     arr = np.array(['apple', 'banana', 'grape', 'pineapple'])"
   ]
  },
  {
   "cell_type": "code",
   "execution_count": 11,
   "id": "aa688e77-bb39-4458-b4fb-3ab0af20078f",
   "metadata": {},
   "outputs": [
    {
     "name": "stdout",
     "output_type": "stream",
     "text": [
      "Array:\n",
      "['apple' 'banana' 'grape' 'pineapple']\n",
      "\n",
      "Length of the longest string:\n",
      "9\n"
     ]
    }
   ],
   "source": [
    "import numpy as np\n",
    "\n",
    "def find_longest_string_length(arr):\n",
    "    # Use np.vectorize to apply the len function to each element in the array\n",
    "    lengths = np.vectorize(len)(arr)\n",
    "    # Find the maximum length\n",
    "    max_length = np.max(lengths)\n",
    "    return max_length\n",
    "\n",
    "# Example input array\n",
    "arr = np.array(['apple', 'banana', 'grape', 'pineapple'])\n",
    "\n",
    "# Find the length of the longest string\n",
    "longest_string_length = find_longest_string_length(arr)\n",
    "\n",
    "print(\"Array:\")\n",
    "print(arr)\n",
    "print(\"\\nLength of the longest string:\")\n",
    "print(longest_string_length)\n"
   ]
  },
  {
   "cell_type": "markdown",
   "id": "bbc31e5b-c65f-4c0b-b59d-1d2ef4563268",
   "metadata": {},
   "source": [
    "# 61. Create a dataset of 100 random integers between 1 and 1000. Compute the mean, median, variance, and standard deviation of the dataset using NumPy's functions."
   ]
  },
  {
   "cell_type": "code",
   "execution_count": 12,
   "id": "44afa871-52e0-4816-b0e4-781e5a2bc250",
   "metadata": {},
   "outputs": [
    {
     "name": "stdout",
     "output_type": "stream",
     "text": [
      "Dataset:\n",
      "[688 149 329 676 534 482 421 470 344  10 974 872 829  65  83 649 805 599\n",
      " 243 276 495 791 255 478  30 473 816 882 942 735 580 766 209  11 476 607\n",
      " 118 871 410 326 121 649  65 418 904 872 468 259 150 632 582 631 160 761\n",
      " 437 971 370 868 961 526 753 543 251 110  43 735 439 602 915 941 647 370\n",
      "  42 339 871 152 740 154 463 430 886 344 358  48 837 585 308 768 231 391\n",
      " 240  18 768 291 555 354 811  99 650 444]\n",
      "\n",
      "Mean: 491.0\n",
      "Median: 474.5\n",
      "Variance: 78947.2\n",
      "Standard Deviation: 280.97544376688865\n"
     ]
    }
   ],
   "source": [
    "import numpy as np\n",
    "\n",
    "# Create a dataset of 100 random integers between 1 and 1000\n",
    "dataset = np.random.randint(1, 1001, size=100)\n",
    "\n",
    "# Compute the mean\n",
    "mean_value = np.mean(dataset)\n",
    "\n",
    "# Compute the median\n",
    "median_value = np.median(dataset)\n",
    "\n",
    "# Compute the variance\n",
    "variance_value = np.var(dataset)\n",
    "\n",
    "# Compute the standard deviation\n",
    "std_deviation_value = np.std(dataset)\n",
    "\n",
    "print(\"Dataset:\")\n",
    "print(dataset)\n",
    "print(\"\\nMean:\", mean_value)\n",
    "print(\"Median:\", median_value)\n",
    "print(\"Variance:\", variance_value)\n",
    "print(\"Standard Deviation:\", std_deviation_value)\n"
   ]
  },
  {
   "cell_type": "markdown",
   "id": "7db3b788-af4c-4a0f-abf0-f266c7fc99ab",
   "metadata": {},
   "source": [
    "#  62. Generate an array of 50 random numbers between 1 and 100. Find the 25th and 75th percentiles of the dataset."
   ]
  },
  {
   "cell_type": "code",
   "execution_count": 13,
   "id": "3856fbe4-ba02-4593-aa95-40537350b9cb",
   "metadata": {},
   "outputs": [
    {
     "name": "stdout",
     "output_type": "stream",
     "text": [
      "Dataset:\n",
      "[27 27 69 90 88  6 51 39 90 60 67 96 49  5 45  5 89  5 44 50 44 62 85 46\n",
      " 69 66 31 15 55 14 18 96 28 58 51  4  8 20 72 75 43 31  1 13 26 97 72 55\n",
      " 13 67]\n",
      "\n",
      "25th Percentile: 21.5\n",
      "75th Percentile: 68.5\n"
     ]
    }
   ],
   "source": [
    "import numpy as np\n",
    "\n",
    "# Generate an array of 50 random numbers between 1 and 100\n",
    "dataset = np.random.randint(1, 101, size=50)\n",
    "\n",
    "# Find the 25th percentile\n",
    "percentile_25 = np.percentile(dataset, 25)\n",
    "\n",
    "# Find the 75th percentile\n",
    "percentile_75 = np.percentile(dataset, 75)\n",
    "\n",
    "print(\"Dataset:\")\n",
    "print(dataset)\n",
    "print(\"\\n25th Percentile:\", percentile_25)\n",
    "print(\"75th Percentile:\", percentile_75)"
   ]
  },
  {
   "cell_type": "markdown",
   "id": "78502a71-1fcd-4f32-80dc-fd3bd063efe0",
   "metadata": {},
   "source": [
    "#  63. Create two arrays representing two sets of variables. Compute the correlation coefficient between these arrays using NumPy's `corrcoef` function."
   ]
  },
  {
   "cell_type": "code",
   "execution_count": 14,
   "id": "e9501f6d-5f84-4b70-b19a-5d00b95c9a00",
   "metadata": {},
   "outputs": [
    {
     "name": "stdout",
     "output_type": "stream",
     "text": [
      "Array 1:\n",
      "[78 73 27 99 24 99 43 46  3 66 15 11 16 47 11 60 73  9 55 12 30 27 23 79\n",
      "  4 52 34 38 87 30 11  9 22 31 90 71 67 85 77 67 40 34  7 62  4  6 88  4\n",
      " 83 61]\n",
      "\n",
      "Array 2:\n",
      "[ 8 22 17 45 47  6 53 39 32 27 17 93 95 23 28 85 67 97 18 46 32  9 89 40\n",
      " 69 65 54 37  3 71 45 99 20 66 49 83 95 29 17 21 49 42 60  8 55 77 69 84\n",
      " 75 54]\n",
      "\n",
      "Correlation coefficient matrix:\n",
      "[[ 1.         -0.30979126]\n",
      " [-0.30979126  1.        ]]\n",
      "\n",
      "Correlation coefficient between Array 1 and Array 2:\n",
      "-0.3097912621528588\n"
     ]
    }
   ],
   "source": [
    "import numpy as np\n",
    "\n",
    "# Create two arrays representing two sets of variables\n",
    "array1 = np.random.randint(1, 100, size=50)\n",
    "array2 = np.random.randint(1, 100, size=50)\n",
    "\n",
    "# Compute the correlation coefficient matrix\n",
    "correlation_matrix = np.corrcoef(array1, array2)\n",
    "\n",
    "# Extract the correlation coefficient (off-diagonal element)\n",
    "correlation_coefficient = correlation_matrix[0, 1]\n",
    "\n",
    "print(\"Array 1:\")\n",
    "print(array1)\n",
    "print(\"\\nArray 2:\")\n",
    "print(array2)\n",
    "print(\"\\nCorrelation coefficient matrix:\")\n",
    "print(correlation_matrix)\n",
    "print(\"\\nCorrelation coefficient between Array 1 and Array 2:\")\n",
    "print(correlation_coefficient)\n"
   ]
  },
  {
   "cell_type": "markdown",
   "id": "57f94ece-c229-438e-9d87-8f76ddb6d001",
   "metadata": {},
   "source": [
    "#  64. Create two matrices and perform matrix multiplication using NumPy's `dot` function."
   ]
  },
  {
   "cell_type": "code",
   "execution_count": 15,
   "id": "5b93490c-db70-46b8-90db-38857f85fea8",
   "metadata": {},
   "outputs": [
    {
     "name": "stdout",
     "output_type": "stream",
     "text": [
      "Matrix 1:\n",
      "[[1 2 3]\n",
      " [4 5 6]]\n",
      "\n",
      "Matrix 2:\n",
      "[[ 7  8]\n",
      " [ 9 10]\n",
      " [11 12]]\n",
      "\n",
      "Result of matrix multiplication (Matrix 1 dot Matrix 2):\n",
      "[[ 58  64]\n",
      " [139 154]]\n"
     ]
    }
   ],
   "source": [
    "import numpy as np\n",
    "\n",
    "# Create two matrices\n",
    "matrix1 = np.array([[1, 2, 3], \n",
    "                    [4, 5, 6]])\n",
    "matrix2 = np.array([[7, 8], \n",
    "                    [9, 10], \n",
    "                    [11, 12]])\n",
    "\n",
    "# Perform matrix multiplication\n",
    "result = np.dot(matrix1, matrix2)\n",
    "\n",
    "print(\"Matrix 1:\")\n",
    "print(matrix1)\n",
    "print(\"\\nMatrix 2:\")\n",
    "print(matrix2)\n",
    "print(\"\\nResult of matrix multiplication (Matrix 1 dot Matrix 2):\")\n",
    "print(result)\n"
   ]
  },
  {
   "cell_type": "markdown",
   "id": "a77a9180-b6b1-464f-8b37-ebfbd6709514",
   "metadata": {},
   "source": [
    "#  65. Create an array of 50 integers between 10 and 1000. Calculate the 10th, 50th (median), and 90th percentiles along with the first and third quartiles."
   ]
  },
  {
   "cell_type": "code",
   "execution_count": 16,
   "id": "0d14a520-51ee-4368-840c-5a3e7dfb7ebf",
   "metadata": {},
   "outputs": [
    {
     "name": "stdout",
     "output_type": "stream",
     "text": [
      "Array:\n",
      "[759 693 105 145 837 696 318 111 486 710 407 189 598 940 101 748 322 472\n",
      " 260 539 635 623 808 893 639 481 730 916 229 830 228 910 463 351 380 143\n",
      " 759 389  85 743 212  34 268 642 525 463 550 947 493 284]\n",
      "\n",
      "10th Percentile: 139.8\n",
      "50th Percentile (Median): 489.5\n",
      "90th Percentile: 842.6000000000001\n",
      "First Quartile (25th Percentile): 272.0\n",
      "Third Quartile (75th Percentile): 725.0\n"
     ]
    }
   ],
   "source": [
    "import numpy as np\n",
    "\n",
    "# Create an array of 50 integers between 10 and 1000\n",
    "arr = np.random.randint(10, 1001, size=50)\n",
    "\n",
    "# Calculate the 10th percentile\n",
    "percentile_10 = np.percentile(arr, 10)\n",
    "\n",
    "# Calculate the 50th percentile (median)\n",
    "percentile_50 = np.percentile(arr, 50)\n",
    "\n",
    "# Calculate the 90th percentile\n",
    "percentile_90 = np.percentile(arr, 90)\n",
    "\n",
    "# Calculate the first quartile (25th percentile)\n",
    "first_quartile = np.percentile(arr, 25)\n",
    "\n",
    "# Calculate the third quartile (75th percentile)\n",
    "third_quartile = np.percentile(arr, 75)\n",
    "\n",
    "print(\"Array:\")\n",
    "print(arr)\n",
    "print(\"\\n10th Percentile:\", percentile_10)\n",
    "print(\"50th Percentile (Median):\", percentile_50)\n",
    "print(\"90th Percentile:\", percentile_90)\n",
    "print(\"First Quartile (25th Percentile):\", first_quartile)\n",
    "print(\"Third Quartile (75th Percentile):\", third_quartile)\n"
   ]
  },
  {
   "cell_type": "markdown",
   "id": "bf602544-e615-4338-8c31-63ff68249cec",
   "metadata": {},
   "source": [
    "#  66. Create a NumPy array of integers and find the index of a specific element"
   ]
  },
  {
   "cell_type": "code",
   "execution_count": 17,
   "id": "e9f03472-33ac-435a-a8e4-25766ff7b606",
   "metadata": {},
   "outputs": [
    {
     "name": "stdout",
     "output_type": "stream",
     "text": [
      "Array:\n",
      "[ 10  20  30  40  50  60  70  80  90 100]\n",
      "\n",
      "Index of the element 50:\n",
      "[4]\n"
     ]
    }
   ],
   "source": [
    "import numpy as np\n",
    "\n",
    "# Create a NumPy array of integers\n",
    "arr = np.array([10, 20, 30, 40, 50, 60, 70, 80, 90, 100])\n",
    "\n",
    "# Specify the element to find the index of\n",
    "element_to_find = 50\n",
    "\n",
    "# Find the index of the specific element\n",
    "index_of_element = np.where(arr == element_to_find)[0]\n",
    "\n",
    "print(\"Array:\")\n",
    "print(arr)\n",
    "print(f\"\\nIndex of the element {element_to_find}:\")\n",
    "print(index_of_element)\n"
   ]
  },
  {
   "cell_type": "markdown",
   "id": "66aadf23-78ee-45ac-b8e0-728114d2db4b",
   "metadata": {},
   "source": [
    "# 67. Generate a random NumPy array and sort it in ascending order"
   ]
  },
  {
   "cell_type": "code",
   "execution_count": 18,
   "id": "2579fc50-020e-4bc0-a995-ab6a64f02cba",
   "metadata": {},
   "outputs": [
    {
     "name": "stdout",
     "output_type": "stream",
     "text": [
      "Random array:\n",
      "[18  6 44 15 27 12 27 24 43  8]\n",
      "\n",
      "Sorted array in ascending order:\n",
      "[ 6  8 12 15 18 24 27 27 43 44]\n"
     ]
    }
   ],
   "source": [
    "import numpy as np\n",
    "\n",
    "# Generate a random NumPy array of 10 integers between 1 and 100\n",
    "random_array = np.random.randint(1, 101, size=10)\n",
    "\n",
    "# Sort the array in ascending order\n",
    "sorted_array = np.sort(random_array)\n",
    "\n",
    "print(\"Random array:\")\n",
    "print(random_array)\n",
    "print(\"\\nSorted array in ascending order:\")\n",
    "print(sorted_array)\n"
   ]
  },
  {
   "cell_type": "markdown",
   "id": "8162e1cd-aeb5-4e1a-ab4e-8e961cc33ea6",
   "metadata": {},
   "source": [
    "# 68. Filter elements >20  in the given NumPy array.    arr = np.array([12, 25, 6, 42, 8, 30])"
   ]
  },
  {
   "cell_type": "code",
   "execution_count": 19,
   "id": "982b0fac-dc42-4a0e-abd7-ef99a02b4a4c",
   "metadata": {},
   "outputs": [
    {
     "name": "stdout",
     "output_type": "stream",
     "text": [
      "Original array:\n",
      "[12 25  6 42  8 30]\n",
      "\n",
      "Filtered array (elements > 20):\n",
      "[25 42 30]\n"
     ]
    }
   ],
   "source": [
    "import numpy as np\n",
    "\n",
    "# Given array\n",
    "arr = np.array([12, 25, 6, 42, 8, 30])\n",
    "\n",
    "# Filter elements greater than 20\n",
    "filtered_array = arr[arr > 20]\n",
    "\n",
    "print(\"Original array:\")\n",
    "print(arr)\n",
    "print(\"\\nFiltered array (elements > 20):\")\n",
    "print(filtered_array)\n"
   ]
  },
  {
   "cell_type": "markdown",
   "id": "2e5a555c-7653-4f60-a864-73b3613db7f7",
   "metadata": {},
   "source": [
    "# 69. Filter elements which are divisible by 3 from a given NumPy array.    arr = np.array([1, 5, 8, 12, 15])"
   ]
  },
  {
   "cell_type": "code",
   "execution_count": 20,
   "id": "a783948d-1a51-4cb9-b3e1-0fd6830944b3",
   "metadata": {},
   "outputs": [
    {
     "name": "stdout",
     "output_type": "stream",
     "text": [
      "Original array:\n",
      "[ 1  5  8 12 15]\n",
      "\n",
      "Filtered array (elements divisible by 3):\n",
      "[12 15]\n"
     ]
    }
   ],
   "source": [
    "import numpy as np\n",
    "\n",
    "# Given array\n",
    "arr = np.array([1, 5, 8, 12, 15])\n",
    "\n",
    "# Filter elements divisible by 3\n",
    "filtered_array = arr[arr % 3 == 0]\n",
    "\n",
    "print(\"Original array:\")\n",
    "print(arr)\n",
    "print(\"\\nFiltered array (elements divisible by 3):\")\n",
    "print(filtered_array)\n"
   ]
  },
  {
   "cell_type": "markdown",
   "id": "1259b11b-a605-409b-ab05-180505acc8b0",
   "metadata": {},
   "source": [
    "# 70. Filter elements which are ≥ 20 and ≤ 40 from a given NumPy array.     arr = np.array([10, 20, 30, 40, 50])"
   ]
  },
  {
   "cell_type": "code",
   "execution_count": 21,
   "id": "87018de6-ffee-4512-9369-20ba84be2d69",
   "metadata": {},
   "outputs": [
    {
     "name": "stdout",
     "output_type": "stream",
     "text": [
      "Original array:\n",
      "[10 20 30 40 50]\n",
      "\n",
      "Filtered array (elements ≥ 20 and ≤ 40):\n",
      "[20 30 40]\n"
     ]
    }
   ],
   "source": [
    "import numpy as np\n",
    "\n",
    "# Given array\n",
    "arr = np.array([10, 20, 30, 40, 50])\n",
    "\n",
    "# Filter elements which are ≥ 20 and ≤ 40\n",
    "filtered_array = arr[(arr >= 20) & (arr <= 40)]\n",
    "\n",
    "print(\"Original array:\")\n",
    "print(arr)\n",
    "print(\"\\nFiltered array (elements ≥ 20 and ≤ 40):\")\n",
    "print(filtered_array)\n"
   ]
  },
  {
   "cell_type": "markdown",
   "id": "a827c6b2-e9b1-446c-bf44-7e8035cd2f06",
   "metadata": {},
   "source": [
    "#  71. For the given NumPy array, check its byte order using the `dtype` attribute byteorder.          arr = np.array([1, 2, 3])"
   ]
  },
  {
   "cell_type": "code",
   "execution_count": 22,
   "id": "accd65ea-5538-4369-aeee-c863d5cc3eaf",
   "metadata": {},
   "outputs": [
    {
     "name": "stdout",
     "output_type": "stream",
     "text": [
      "Array:\n",
      "[1 2 3]\n",
      "\n",
      "Byte order of the array:\n",
      "=\n"
     ]
    }
   ],
   "source": [
    "import numpy as np\n",
    "\n",
    "# Given array\n",
    "arr = np.array([1, 2, 3])\n",
    "\n",
    "# Check the byte order of the array\n",
    "byte_order = arr.dtype.byteorder\n",
    "\n",
    "print(\"Array:\")\n",
    "print(arr)\n",
    "print(\"\\nByte order of the array:\")\n",
    "print(byte_order)\n"
   ]
  },
  {
   "cell_type": "markdown",
   "id": "cf22fb71-6d50-4a72-802d-f3a6adc070f5",
   "metadata": {},
   "source": [
    "# 72. For the given NumPy array, perform byte swapping in place using byteswap().    arr = np.array([1, 2, 3], dtype=np.int32)"
   ]
  },
  {
   "cell_type": "code",
   "execution_count": 23,
   "id": "5cd03859-4ee3-4b32-8c6a-ac83b9cce9d3",
   "metadata": {},
   "outputs": [
    {
     "name": "stdout",
     "output_type": "stream",
     "text": [
      "Original array:\n",
      "[1 2 3]\n",
      "Byte order of the original array:\n",
      "=\n",
      "\n",
      "Array after byte swapping:\n",
      "[16777216 33554432 50331648]\n",
      "Byte order of the array after swapping:\n",
      "=\n"
     ]
    }
   ],
   "source": [
    "import numpy as np\n",
    "\n",
    "# Given array\n",
    "arr = np.array([1, 2, 3], dtype=np.int32)\n",
    "\n",
    "print(\"Original array:\")\n",
    "print(arr)\n",
    "print(\"Byte order of the original array:\")\n",
    "print(arr.dtype.byteorder)\n",
    "\n",
    "# Perform byte swapping in place\n",
    "arr.byteswap(True)\n",
    "\n",
    "print(\"\\nArray after byte swapping:\")\n",
    "print(arr)\n",
    "print(\"Byte order of the array after swapping:\")\n",
    "print(arr.dtype.byteorder)\n"
   ]
  },
  {
   "cell_type": "markdown",
   "id": "515e4b18-15e2-46d3-893e-cfcc9f3a9787",
   "metadata": {},
   "source": [
    "# 73. For the given NumPy array, swap its byte order without modifying the original array using newbyteorder().    arr = np.array([1, 2, 3], dtype=np.int32)"
   ]
  },
  {
   "cell_type": "code",
   "execution_count": 24,
   "id": "6455d702-89f5-4253-ab09-4e4b22f5acd9",
   "metadata": {},
   "outputs": [
    {
     "name": "stdout",
     "output_type": "stream",
     "text": [
      "Original array:\n",
      "[1 2 3]\n",
      "Byte order of the original array:\n",
      "=\n",
      "\n",
      "Array after byte swapping (without modifying the original array):\n",
      "[1 2 3]\n",
      "Byte order of the swapped array:\n",
      ">\n",
      "\n",
      "Original array after attempting byte swap:\n",
      "[1 2 3]\n",
      "Byte order of the original array:\n",
      "=\n"
     ]
    }
   ],
   "source": [
    "import numpy as np\n",
    "\n",
    "# Given array\n",
    "arr = np.array([1, 2, 3], dtype=np.int32)\n",
    "\n",
    "print(\"Original array:\")\n",
    "print(arr)\n",
    "print(\"Byte order of the original array:\")\n",
    "print(arr.dtype.byteorder)\n",
    "\n",
    "# Swap the byte order without modifying the original array\n",
    "swapped_arr = arr.byteswap().newbyteorder()\n",
    "\n",
    "print(\"\\nArray after byte swapping (without modifying the original array):\")\n",
    "print(swapped_arr)\n",
    "print(\"Byte order of the swapped array:\")\n",
    "print(swapped_arr.dtype.byteorder)\n",
    "\n",
    "# Verify the original array remains unchanged\n",
    "print(\"\\nOriginal array after attempting byte swap:\")\n",
    "print(arr)\n",
    "print(\"Byte order of the original array:\")\n",
    "print(arr.dtype.byteorder)\n"
   ]
  },
  {
   "cell_type": "markdown",
   "id": "6fbeb809-791c-413e-96ba-d3a7f5ac9eb9",
   "metadata": {},
   "source": [
    "# 74. For the given NumPy array and swap its byte order conditionally based on system endianness using newbyteorder().    arr = np.array([1, 2, 3], dtype=np.int32)"
   ]
  },
  {
   "cell_type": "code",
   "execution_count": 25,
   "id": "bda15cb3-1701-454f-a599-bc93d49009af",
   "metadata": {},
   "outputs": [
    {
     "name": "stdout",
     "output_type": "stream",
     "text": [
      "Original array:\n",
      "[1 2 3]\n",
      "Byte order of the original array:\n",
      "=\n",
      "\n",
      "Array after conditional byte swapping based on system endianness:\n",
      "[1 2 3]\n",
      "Byte order of the swapped array:\n",
      ">\n",
      "\n",
      "Original array after attempting byte swap:\n",
      "[1 2 3]\n",
      "Byte order of the original array:\n",
      "=\n"
     ]
    }
   ],
   "source": [
    "import numpy as np\n",
    "\n",
    "# Given array\n",
    "arr = np.array([1, 2, 3], dtype=np.int32)\n",
    "\n",
    "print(\"Original array:\")\n",
    "print(arr)\n",
    "print(\"Byte order of the original array:\")\n",
    "print(arr.dtype.byteorder)\n",
    "\n",
    "# Determine the system's endianness\n",
    "system_endianness = '<' if np.little_endian else '>'\n",
    "\n",
    "# Swap byte order conditionally based on system endianness\n",
    "if arr.dtype.byteorder == '=':\n",
    "    # Native byte order, need to check system endianness\n",
    "    if system_endianness == '<':\n",
    "        swapped_arr = arr.byteswap().newbyteorder('>')\n",
    "    else:\n",
    "        swapped_arr = arr.byteswap().newbyteorder('<')\n",
    "else:\n",
    "    # Already in non-native byte order, simply swap back to native\n",
    "    swapped_arr = arr.byteswap().newbyteorder('=')\n",
    "\n",
    "print(\"\\nArray after conditional byte swapping based on system endianness:\")\n",
    "print(swapped_arr)\n",
    "print(\"Byte order of the swapped array:\")\n",
    "print(swapped_arr.dtype.byteorder)\n",
    "\n",
    "# Verify the original array remains unchanged\n",
    "print(\"\\nOriginal array after attempting byte swap:\")\n",
    "print(arr)\n",
    "print(\"Byte order of the original array:\")\n",
    "print(arr.dtype.byteorder)\n"
   ]
  },
  {
   "cell_type": "markdown",
   "id": "3ba2cd27-8224-49ef-857a-f007da3a583a",
   "metadata": {},
   "source": [
    "#  75. For the given NumPy array, check if byte swapping is necessary for the current system using `dtype` attribute `byteorder`.    arr = np.array([1, 2, 3], dtype=np.int32)"
   ]
  },
  {
   "cell_type": "code",
   "execution_count": 1,
   "id": "73a0bd8e-c809-4f3f-9080-ea237b2fcf76",
   "metadata": {},
   "outputs": [
    {
     "name": "stdout",
     "output_type": "stream",
     "text": [
      "Original array:\n",
      "[1 2 3]\n",
      "Byte order of the original array:\n",
      "=\n",
      "System endianness:\n",
      "<\n",
      "\n",
      "Is byte swapping necessary for the current system?\n",
      "True\n",
      "\n",
      "Array after byte swapping:\n",
      "[1 2 3]\n",
      "Byte order of the swapped array:\n",
      ">\n"
     ]
    }
   ],
   "source": [
    "import numpy as np\n",
    "\n",
    "# Given array\n",
    "arr = np.array([1, 2, 3], dtype=np.int32)\n",
    "\n",
    "# Determine the system's endianness\n",
    "system_endianness = '<' if np.little_endian else '>'\n",
    "\n",
    "# Check if byte swapping is necessary\n",
    "is_swap_needed = (arr.dtype.byteorder == '=') and (system_endianness != '=')\n",
    "\n",
    "print(\"Original array:\")\n",
    "print(arr)\n",
    "print(\"Byte order of the original array:\")\n",
    "print(arr.dtype.byteorder)\n",
    "print(\"System endianness:\")\n",
    "print(system_endianness)\n",
    "print(\"\\nIs byte swapping necessary for the current system?\")\n",
    "print(is_swap_needed)\n",
    "\n",
    "# Perform byte swap if necessary\n",
    "if is_swap_needed:\n",
    "    swapped_arr = arr.byteswap().newbyteorder()\n",
    "    print(\"\\nArray after byte swapping:\")\n",
    "    print(swapped_arr)\n",
    "    print(\"Byte order of the swapped array:\")\n",
    "    print(swapped_arr.dtype.byteorder)\n",
    "else:\n",
    "    print(\"\\nByte swapping is not necessary.\")\n"
   ]
  },
  {
   "cell_type": "markdown",
   "id": "3e8c0161-881b-4b34-b2af-0c7816f3ea0a",
   "metadata": {},
   "source": [
    "# 76. Create a NumPy array arr1 with values from 1 to 10. Create a copy of arr1 named copy_arr and modify an element in copy_arr. Check if modifying copy_arr affects arr1."
   ]
  },
  {
   "cell_type": "code",
   "execution_count": 2,
   "id": "c08954bd-9ac6-4c64-9f25-026d5e385ff2",
   "metadata": {},
   "outputs": [
    {
     "name": "stdout",
     "output_type": "stream",
     "text": [
      "Original array (arr1):\n",
      "[ 1  2  3  4  5  6  7  8  9 10]\n",
      "\n",
      "Copy of the array (copy_arr) after modification:\n",
      "[99  2  3  4  5  6  7  8  9 10]\n",
      "\n",
      "Does modifying copy_arr affect arr1?\n",
      "No, arr1 remains unchanged.\n"
     ]
    }
   ],
   "source": [
    "import numpy as np\n",
    "\n",
    "# Create a NumPy array arr1 with values from 1 to 10\n",
    "arr1 = np.arange(1, 11)\n",
    "\n",
    "# Create a copy of arr1 named copy_arr\n",
    "copy_arr = arr1.copy()\n",
    "\n",
    "# Modify an element in copy_arr\n",
    "copy_arr[0] = 99\n",
    "\n",
    "# Check if modifying copy_arr affects arr1\n",
    "print(\"Original array (arr1):\")\n",
    "print(arr1)\n",
    "\n",
    "print(\"\\nCopy of the array (copy_arr) after modification:\")\n",
    "print(copy_arr)\n",
    "\n",
    "print(\"\\nDoes modifying copy_arr affect arr1?\")\n",
    "print(\"No, arr1 remains unchanged.\")\n"
   ]
  },
  {
   "cell_type": "markdown",
   "id": "900a5bf5-a9c5-46f5-ada4-5f129ff46d42",
   "metadata": {},
   "source": [
    "# 77. Create a 2D NumPy array matrix of shape (3, 3) with random integers. Extract a slice view_slice from the matrix. Modify an element in view_slice and observe if it changes the original matrix."
   ]
  },
  {
   "cell_type": "code",
   "execution_count": 3,
   "id": "e424ae58-a3e8-4e79-bfbc-ac9b4a10c5f4",
   "metadata": {},
   "outputs": [
    {
     "name": "stdout",
     "output_type": "stream",
     "text": [
      "Original matrix:\n",
      "[[ 8  9 80]\n",
      " [85  3 29]\n",
      " [53 64 61]]\n",
      "\n",
      "View slice of the matrix:\n",
      "[[ 8  9]\n",
      " [85  3]]\n",
      "\n",
      "Modified view slice:\n",
      "[[999   9]\n",
      " [ 85   3]]\n",
      "\n",
      "Matrix after modifying the view slice:\n",
      "[[999   9  80]\n",
      " [ 85   3  29]\n",
      " [ 53  64  61]]\n"
     ]
    }
   ],
   "source": [
    "import numpy as np\n",
    "\n",
    "# Create a 2D NumPy array matrix of shape (3, 3) with random integers\n",
    "matrix = np.random.randint(1, 100, size=(3, 3))\n",
    "\n",
    "# Extract a slice view_slice from the matrix\n",
    "view_slice = matrix[:2, :2]\n",
    "\n",
    "# Print the original matrix and the view_slice\n",
    "print(\"Original matrix:\")\n",
    "print(matrix)\n",
    "\n",
    "print(\"\\nView slice of the matrix:\")\n",
    "print(view_slice)\n",
    "\n",
    "# Modify an element in view_slice\n",
    "view_slice[0, 0] = 999\n",
    "\n",
    "# Print the modified view_slice and the original matrix to observe changes\n",
    "print(\"\\nModified view slice:\")\n",
    "print(view_slice)\n",
    "\n",
    "print(\"\\nMatrix after modifying the view slice:\")\n",
    "print(matrix)\n"
   ]
  },
  {
   "cell_type": "markdown",
   "id": "2a7c59dd-14e4-41a8-95db-f7110e69ea79",
   "metadata": {},
   "source": [
    "#  78. Create a NumPy array `array_a` of shape (4, 3) with sequential integers from 1 to 12. Extract a slice `view_b` from `array_a` and broadcast the addition of 5 to view_b. Check if it alters the original `array_a`."
   ]
  },
  {
   "cell_type": "code",
   "execution_count": 4,
   "id": "5553999f-e1a5-4339-b6f1-4afdab618463",
   "metadata": {},
   "outputs": [
    {
     "name": "stdout",
     "output_type": "stream",
     "text": [
      "Original array (array_a):\n",
      "[[ 1  2  3]\n",
      " [ 4  5  6]\n",
      " [ 7  8  9]\n",
      " [10 11 12]]\n",
      "\n",
      "View slice (view_b) before modification:\n",
      "[[1 2]\n",
      " [4 5]]\n",
      "\n",
      "View slice (view_b) after adding 5:\n",
      "[[ 6  7]\n",
      " [ 9 10]]\n",
      "\n",
      "Array (array_a) after modifying the view slice:\n",
      "[[ 6  7  3]\n",
      " [ 9 10  6]\n",
      " [ 7  8  9]\n",
      " [10 11 12]]\n"
     ]
    }
   ],
   "source": [
    "import numpy as np\n",
    "\n",
    "# Create a NumPy array array_a of shape (4, 3) with sequential integers from 1 to 12\n",
    "array_a = np.arange(1, 13).reshape(4, 3)\n",
    "\n",
    "# Extract a slice view_b from array_a\n",
    "view_b = array_a[:2, :2]\n",
    "\n",
    "# Print the original array and the view\n",
    "print(\"Original array (array_a):\")\n",
    "print(array_a)\n",
    "\n",
    "print(\"\\nView slice (view_b) before modification:\")\n",
    "print(view_b)\n",
    "\n",
    "# Broadcast the addition of 5 to view_b\n",
    "view_b += 5\n",
    "\n",
    "# Print the modified view and the original array to observe changes\n",
    "print(\"\\nView slice (view_b) after adding 5:\")\n",
    "print(view_b)\n",
    "\n",
    "print(\"\\nArray (array_a) after modifying the view slice:\")\n",
    "print(array_a)\n"
   ]
  },
  {
   "cell_type": "markdown",
   "id": "e3013858-f178-4f36-8658-8aca509c59bb",
   "metadata": {},
   "source": [
    "# 79. Create a NumPy array `orig_array` of shape (2, 4) with values from 1 to 8. Create a reshaped view `reshaped_view` of shape (4, 2) from orig_array. Modify an element in `reshaped_view` and check if it reflects changes in the original `orig_array`."
   ]
  },
  {
   "cell_type": "code",
   "execution_count": 5,
   "id": "45ec29eb-bd5e-479d-aa8a-ebcd3f42170f",
   "metadata": {},
   "outputs": [
    {
     "name": "stdout",
     "output_type": "stream",
     "text": [
      "Original array (orig_array):\n",
      "[[1 2 3 4]\n",
      " [5 6 7 8]]\n",
      "\n",
      "Reshaped view (reshaped_view):\n",
      "[[1 2]\n",
      " [3 4]\n",
      " [5 6]\n",
      " [7 8]]\n",
      "\n",
      "Modified reshaped view (reshaped_view):\n",
      "[[99  2]\n",
      " [ 3  4]\n",
      " [ 5  6]\n",
      " [ 7  8]]\n",
      "\n",
      "Original array (orig_array) after modifying the reshaped view:\n",
      "[[99  2  3  4]\n",
      " [ 5  6  7  8]]\n"
     ]
    }
   ],
   "source": [
    "import numpy as np\n",
    "\n",
    "# Create a NumPy array orig_array of shape (2, 4) with values from 1 to 8\n",
    "orig_array = np.arange(1, 9).reshape(2, 4)\n",
    "\n",
    "# Create a reshaped view reshaped_view of shape (4, 2) from orig_array\n",
    "reshaped_view = orig_array.reshape(4, 2)\n",
    "\n",
    "# Print the original array and the reshaped view\n",
    "print(\"Original array (orig_array):\")\n",
    "print(orig_array)\n",
    "\n",
    "print(\"\\nReshaped view (reshaped_view):\")\n",
    "print(reshaped_view)\n",
    "\n",
    "# Modify an element in reshaped_view\n",
    "reshaped_view[0, 0] = 99\n",
    "\n",
    "# Print the modified reshaped view and the original array to observe changes\n",
    "print(\"\\nModified reshaped view (reshaped_view):\")\n",
    "print(reshaped_view)\n",
    "\n",
    "print(\"\\nOriginal array (orig_array) after modifying the reshaped view:\")\n",
    "print(orig_array)\n"
   ]
  },
  {
   "cell_type": "markdown",
   "id": "9014ee0a-3e45-4d32-8ab2-fcb413cd7de3",
   "metadata": {},
   "source": [
    "#  80. Create a NumPy array `data` of shape (3, 4) with random integers. Extract a copy `data_copy` of elements greater than 5. Modify an element in `data_copy` and verify if it affects the original `data`."
   ]
  },
  {
   "cell_type": "code",
   "execution_count": 6,
   "id": "13878295-4de8-4519-a1ef-504b7ee03209",
   "metadata": {},
   "outputs": [
    {
     "name": "stdout",
     "output_type": "stream",
     "text": [
      "Original array (data):\n",
      "[[18 10  4  9]\n",
      " [ 1  7 13 16]\n",
      " [ 7  9 10  3]]\n",
      "\n",
      "Copied array (data_copy) with elements greater than 5:\n",
      "[18 10  9  7 13 16  7  9 10]\n",
      "\n",
      "Modified copied array (data_copy):\n",
      "[99 10  9  7 13 16  7  9 10]\n",
      "\n",
      "Original array (data) after modifying the copied array:\n",
      "[[18 10  4  9]\n",
      " [ 1  7 13 16]\n",
      " [ 7  9 10  3]]\n"
     ]
    }
   ],
   "source": [
    "import numpy as np\n",
    "\n",
    "# Create a NumPy array data of shape (3, 4) with random integers\n",
    "data = np.random.randint(1, 20, size=(3, 4))\n",
    "\n",
    "# Extract a copy of elements greater than 5\n",
    "data_copy = data[data > 5].copy()\n",
    "\n",
    "# Print the original array and the copied array\n",
    "print(\"Original array (data):\")\n",
    "print(data)\n",
    "\n",
    "print(\"\\nCopied array (data_copy) with elements greater than 5:\")\n",
    "print(data_copy)\n",
    "\n",
    "# Modify an element in data_copy\n",
    "if data_copy.size > 0:  # Ensure there is at least one element in the copy\n",
    "    data_copy[0] = 99\n",
    "\n",
    "# Print the modified copied array and the original array to observe changes\n",
    "print(\"\\nModified copied array (data_copy):\")\n",
    "print(data_copy)\n",
    "\n",
    "print(\"\\nOriginal array (data) after modifying the copied array:\")\n",
    "print(data)\n"
   ]
  },
  {
   "cell_type": "markdown",
   "id": "3dc09641-9c0d-4e8b-8e18-7ff941fa675a",
   "metadata": {},
   "source": [
    "# 81. Create two matrices A and B of identical shape containing integers and perform addition and subtraction operations between them."
   ]
  },
  {
   "cell_type": "code",
   "execution_count": 9,
   "id": "7740a265-8177-436f-9602-27d48f4dcd69",
   "metadata": {},
   "outputs": [
    {
     "name": "stdout",
     "output_type": "stream",
     "text": [
      "Matrix A:\n",
      "[[1 2 3]\n",
      " [4 5 6]\n",
      " [7 8 9]]\n",
      "\n",
      "Matrix B:\n",
      "[[9 8 7]\n",
      " [6 5 4]\n",
      " [3 2 1]]\n",
      "\n",
      "Addition of A and B:\n",
      "[[10 10 10]\n",
      " [10 10 10]\n",
      " [10 10 10]]\n",
      "\n",
      "Subtraction of A and B:\n",
      "[[-8 -6 -4]\n",
      " [-2  0  2]\n",
      " [ 4  6  8]]\n"
     ]
    }
   ],
   "source": [
    "import numpy as np\n",
    "\n",
    "# Create two matrices A and B of identical shape containing integers\n",
    "A = np.array([[1, 2, 3], \n",
    "              [4, 5, 6], \n",
    "              [7, 8, 9]])\n",
    "\n",
    "B = np.array([[9, 8, 7], \n",
    "              [6, 5, 4], \n",
    "              [3, 2, 1]])\n",
    "\n",
    "# Perform addition of matrices A and B\n",
    "addition_result = A + B\n",
    "\n",
    "# Perform subtraction of matrices A and B\n",
    "subtraction_result = A - B\n",
    "\n",
    "print(\"Matrix A:\")\n",
    "print(A)\n",
    "\n",
    "print(\"\\nMatrix B:\")\n",
    "print(B)\n",
    "\n",
    "print(\"\\nAddition of A and B:\")\n",
    "print(addition_result)\n",
    "\n",
    "print(\"\\nSubtraction of A and B:\")\n",
    "print(subtraction_result)\n"
   ]
  },
  {
   "cell_type": "markdown",
   "id": "68c0c794-f988-4c7a-b491-030cec4cc860",
   "metadata": {},
   "source": [
    "# 82. Generate two matrices `C` (3x2) and `D` (2x4) and perform matrix multiplication."
   ]
  },
  {
   "cell_type": "code",
   "execution_count": 10,
   "id": "baccabde-517a-4c33-98a5-1ee6623ed1fa",
   "metadata": {},
   "outputs": [
    {
     "name": "stdout",
     "output_type": "stream",
     "text": [
      "Matrix C (3x2):\n",
      "[[9 1]\n",
      " [4 1]\n",
      " [3 3]]\n",
      "\n",
      "Matrix D (2x4):\n",
      "[[3 8 1 6]\n",
      " [5 4 1 5]]\n",
      "\n",
      "Matrix multiplication of C and D:\n",
      "[[32 76 10 59]\n",
      " [17 36  5 29]\n",
      " [24 36  6 33]]\n"
     ]
    }
   ],
   "source": [
    "import numpy as np\n",
    "\n",
    "# Generate two matrices C (3x2) and D (2x4) with random integers\n",
    "C = np.random.randint(1, 10, size=(3, 2))\n",
    "D = np.random.randint(1, 10, size=(2, 4))\n",
    "\n",
    "# Perform matrix multiplication\n",
    "multiplication_result = np.dot(C, D)\n",
    "\n",
    "print(\"Matrix C (3x2):\")\n",
    "print(C)\n",
    "\n",
    "print(\"\\nMatrix D (2x4):\")\n",
    "print(D)\n",
    "\n",
    "print(\"\\nMatrix multiplication of C and D:\")\n",
    "print(multiplication_result)\n"
   ]
  },
  {
   "cell_type": "markdown",
   "id": "44aad4e8-f3f7-4d73-8ba0-6b4e54556043",
   "metadata": {},
   "source": [
    "#  83. Create a matrix `E` and find its transpose."
   ]
  },
  {
   "cell_type": "code",
   "execution_count": 11,
   "id": "780c01d7-4824-42c6-a02b-6b9a030c6038",
   "metadata": {},
   "outputs": [
    {
     "name": "stdout",
     "output_type": "stream",
     "text": [
      "Matrix E:\n",
      "[[5 3 8 5]\n",
      " [3 4 8 2]\n",
      " [6 5 6 1]]\n",
      "\n",
      "Transpose of matrix E:\n",
      "[[5 3 6]\n",
      " [3 4 5]\n",
      " [8 8 6]\n",
      " [5 2 1]]\n"
     ]
    }
   ],
   "source": [
    "import numpy as np\n",
    "\n",
    "# Create a matrix E with random integers\n",
    "E = np.random.randint(1, 10, size=(3, 4))\n",
    "\n",
    "# Find the transpose of matrix E\n",
    "E_transpose = E.T\n",
    "\n",
    "print(\"Matrix E:\")\n",
    "print(E)\n",
    "\n",
    "print(\"\\nTranspose of matrix E:\")\n",
    "print(E_transpose)\n"
   ]
  },
  {
   "cell_type": "markdown",
   "id": "ac1395e5-3a7f-4e65-8614-97817bd4d130",
   "metadata": {},
   "source": [
    "# 84. Generate a square matrix `F` and compute its determinant."
   ]
  },
  {
   "cell_type": "code",
   "execution_count": 12,
   "id": "f0a6be34-9a3e-4839-8ada-7f6993fab96f",
   "metadata": {},
   "outputs": [
    {
     "name": "stdout",
     "output_type": "stream",
     "text": [
      "Square matrix F:\n",
      "[[5 9 3]\n",
      " [3 8 9]\n",
      " [5 2 2]]\n",
      "\n",
      "Determinant of matrix F:\n",
      "238.9999999999999\n"
     ]
    }
   ],
   "source": [
    "import numpy as np\n",
    "\n",
    "# Generate a square matrix F (e.g., 3x3) with random integers\n",
    "F = np.random.randint(1, 10, size=(3, 3))\n",
    "\n",
    "# Compute the determinant of matrix F\n",
    "determinant_F = np.linalg.det(F)\n",
    "\n",
    "print(\"Square matrix F:\")\n",
    "print(F)\n",
    "\n",
    "print(\"\\nDeterminant of matrix F:\")\n",
    "print(determinant_F)\n"
   ]
  },
  {
   "cell_type": "markdown",
   "id": "939598a6-4528-4a3f-b053-b4548c81f3fb",
   "metadata": {},
   "source": [
    "#  85. Create a square matrix `G` and find its inverse."
   ]
  },
  {
   "cell_type": "code",
   "execution_count": 13,
   "id": "d2978a2f-bec8-4b41-94db-ed02e4857a86",
   "metadata": {},
   "outputs": [
    {
     "name": "stdout",
     "output_type": "stream",
     "text": [
      "Square matrix G:\n",
      "[[8 9 9]\n",
      " [4 7 1]\n",
      " [3 5 6]]\n",
      "\n",
      "Inverse of matrix G:\n",
      "[[ 0.37755102 -0.09183673 -0.55102041]\n",
      " [-0.21428571  0.21428571  0.28571429]\n",
      " [-0.01020408 -0.13265306  0.20408163]]\n"
     ]
    }
   ],
   "source": [
    "import numpy as np\n",
    "\n",
    "# Generate a square matrix G (e.g., 3x3) with random integers\n",
    "G = np.random.randint(1, 10, size=(3, 3))\n",
    "\n",
    "# Find the inverse of matrix G\n",
    "try:\n",
    "    inverse_G = np.linalg.inv(G)\n",
    "    print(\"Square matrix G:\")\n",
    "    print(G)\n",
    "    \n",
    "    print(\"\\nInverse of matrix G:\")\n",
    "    print(inverse_G)\n",
    "except np.linalg.LinAlgError:\n",
    "    print(\"Matrix G is singular and does not have an inverse.\")\n"
   ]
  },
  {
   "cell_type": "code",
   "execution_count": null,
   "id": "8350fdf0-c7ec-4693-9880-eed48791f2bc",
   "metadata": {},
   "outputs": [],
   "source": []
  }
 ],
 "metadata": {
  "kernelspec": {
   "display_name": "Python 3 (ipykernel)",
   "language": "python",
   "name": "python3"
  },
  "language_info": {
   "codemirror_mode": {
    "name": "ipython",
    "version": 3
   },
   "file_extension": ".py",
   "mimetype": "text/x-python",
   "name": "python",
   "nbconvert_exporter": "python",
   "pygments_lexer": "ipython3",
   "version": "3.10.8"
  }
 },
 "nbformat": 4,
 "nbformat_minor": 5
}
